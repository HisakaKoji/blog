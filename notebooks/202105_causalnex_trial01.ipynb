{
  "cells": [
    {
      "cell_type": "markdown",
      "metadata": {
        "id": "aNAQDWrmuh3w"
      },
      "source": [
        "# causalnex trial 01\n",
        "\n",
        "NOTEARSを用いた因果グラフ推定、ベイジアンネットの推定。\n",
        "- from_pandas\n",
        "- BayesianNetwork"
      ]
    },
    {
      "cell_type": "code",
      "source": [
        "!git clone https://github.com/HisakaKoji/blog.git"
      ],
      "metadata": {
        "id": "MbKtDwQv5WaX",
        "outputId": "ef4c82d6-5dfc-46e7-9d87-432412eb7b92",
        "colab": {
          "base_uri": "https://localhost:8080/"
        }
      },
      "execution_count": 5,
      "outputs": [
        {
          "output_type": "stream",
          "name": "stdout",
          "text": [
            "Cloning into 'blog'...\n",
            "remote: Enumerating objects: 47, done.\u001b[K\n",
            "remote: Counting objects: 100% (47/47), done.\u001b[K\n",
            "remote: Compressing objects: 100% (43/43), done.\u001b[K\n",
            "remote: Total 47 (delta 17), reused 0 (delta 0), pack-reused 0\u001b[K\n",
            "Unpacking objects: 100% (47/47), done.\n"
          ]
        }
      ]
    },
    {
      "cell_type": "code",
      "source": [
        "%cd blog"
      ],
      "metadata": {
        "id": "VSPx9Azq5Y3-",
        "outputId": "994ac903-15ab-4d60-c8ad-dc6d2c867f6b",
        "colab": {
          "base_uri": "https://localhost:8080/"
        }
      },
      "execution_count": 6,
      "outputs": [
        {
          "output_type": "stream",
          "name": "stdout",
          "text": [
            "/content/blog\n"
          ]
        }
      ]
    },
    {
      "cell_type": "code",
      "source": [
        "%cd notebooks"
      ],
      "metadata": {
        "id": "PzV8Loo85eTR",
        "outputId": "ce5607df-86da-4135-cadb-738504029abc",
        "colab": {
          "base_uri": "https://localhost:8080/"
        }
      },
      "execution_count": 12,
      "outputs": [
        {
          "output_type": "stream",
          "name": "stdout",
          "text": [
            "/content/blog/notebooks\n"
          ]
        }
      ]
    },
    {
      "cell_type": "markdown",
      "metadata": {
        "id": "d4ijfj0L49qI"
      },
      "source": [
        "# 必要パッケージ インストール & import"
      ]
    },
    {
      "cell_type": "code",
      "execution_count": 8,
      "metadata": {
        "id": "v9nwnh1ZrVLn"
      },
      "outputs": [],
      "source": [
        "!pip install causalnex\n",
        "!pip install networkx\n",
        "!pip install pgmpy\n",
        "from IPython.display import clear_output\n",
        "clear_output()"
      ]
    },
    {
      "cell_type": "code",
      "execution_count": 9,
      "metadata": {
        "id": "YtgRKEWzriUF"
      },
      "outputs": [],
      "source": [
        "import numpy as np\n",
        "import pandas as pd\n",
        "\n",
        "import matplotlib.pyplot as plt\n",
        "import networkx as nx\n",
        "import warnings; warnings.simplefilter(\"ignore\")\n",
        "%matplotlib inline"
      ]
    },
    {
      "cell_type": "code",
      "execution_count": 10,
      "metadata": {
        "id": "rt9O3uIEsAp1"
      },
      "outputs": [],
      "source": [
        "# import causalnex\n",
        "from causalnex.structure.notears import from_pandas #, from_pandas_lasso\n",
        "#from causalnex.structure.pytorch import from_pandas as from_pandas_pytorch\n",
        "\n",
        "from causalnex.network import BayesianNetwork\n",
        "from causalnex.discretiser import Discretiser\n",
        "# from causalnex.structure import DAGClassifier, DAGRegressor"
      ]
    },
    {
      "cell_type": "code",
      "execution_count": 13,
      "metadata": {
        "id": "3MBjBqjz49qM"
      },
      "outputs": [],
      "source": [
        "# networkx_util\n",
        "from util.networkx_util import NetworkxUtil\n",
        "nx_util = NetworkxUtil() # networkxの図示, printのためのutil"
      ]
    },
    {
      "cell_type": "code",
      "execution_count": null,
      "metadata": {
        "id": "7KgUaNLT49qM"
      },
      "outputs": [],
      "source": []
    },
    {
      "cell_type": "markdown",
      "metadata": {
        "id": "LeEZJstn49qN"
      },
      "source": [
        "# サンプルデータ作成"
      ]
    },
    {
      "cell_type": "code",
      "execution_count": 14,
      "metadata": {
        "id": "Cxk1egSQr2AC"
      },
      "outputs": [],
      "source": [
        "def generate_sample_data(n_samples=1000):\n",
        "    \"\"\"\n",
        "    サンプルデータ生成\n",
        "    | c1 --> x1\n",
        "    | c2 --> x1\n",
        "    | c1 --> y\n",
        "    | c2 --> y\n",
        "    | x1 --> y\n",
        "    | x2 は独立\n",
        "    \"\"\"\n",
        "    np.random.seed(0)\n",
        "    c1 = np.random.normal(0, 0.5, size=n_samples)\n",
        "    c2 = np.random.choice(2, size=n_samples)\n",
        "\n",
        "    np.random.seed(1)\n",
        "    x1 = np.random.normal(1, 2, size=n_samples) + c1 + c2/10\n",
        "\n",
        "    np.random.seed(2)\n",
        "    y = np.random.uniform(-1,2, size=n_samples) + x1 + c1 + c2 /10\n",
        "\n",
        "    np.random.seed(3)\n",
        "    x2 = np.random.uniform(-2, 2, size=n_samples)\n",
        "    raw_data = pd.DataFrame({\"x1\": x1, \"y\":y, \"x2\": x2, \"c1\": c1, \"c2\":c2})\n",
        "    return raw_data"
      ]
    },
    {
      "cell_type": "code",
      "execution_count": 15,
      "metadata": {
        "colab": {
          "base_uri": "https://localhost:8080/"
        },
        "id": "8sk2CekGpbUm",
        "outputId": "561fdc85-5857-4053-fa32-ed59a393e6c1"
      },
      "outputs": [
        {
          "output_type": "stream",
          "name": "stdout",
          "text": [
            "(2000, 5)\n"
          ]
        }
      ],
      "source": [
        "n_samples = 2000\n",
        "struct_data = generate_sample_data(n_samples)\n",
        "print(struct_data.shape)"
      ]
    },
    {
      "cell_type": "code",
      "execution_count": null,
      "metadata": {
        "id": "VU68OrjA49qQ"
      },
      "outputs": [],
      "source": []
    },
    {
      "cell_type": "markdown",
      "metadata": {
        "id": "-08Tuws049qQ"
      },
      "source": [
        "## NO TEARSで因果グラフ推定"
      ]
    },
    {
      "cell_type": "code",
      "execution_count": 16,
      "metadata": {
        "colab": {
          "base_uri": "https://localhost:8080/",
          "height": 303
        },
        "id": "sxv2O7emtNwG",
        "outputId": "9e21de6d-77a1-43f8-e478-f7d338526dad"
      },
      "outputs": [
        {
          "output_type": "display_data",
          "data": {
            "text/plain": [
              "<Figure size 360x360 with 1 Axes>"
            ],
            "image/png": "[encoded data removed]"
          },
          "metadata": {}
        }
      ],
      "source": [
        "# NOTEARSを実行, from_pandas_lassoでL1 penaltyをつけて推定することが可能\n",
        "sm = from_pandas( \n",
        "    struct_data,\n",
        "    tabu_edges = [],\n",
        "    tabu_parent_nodes = None,\n",
        "    tabu_child_nodes = None,\n",
        ")\n",
        "sm.threshold_till_dag() # DAGになるように閾値をあげる\n",
        "sm.remove_edges_below_threshold(0.2) # 係数の閾値を0.2にする\n",
        "nx_util.plot_structure_model(structure_model=sm, layout_method=\"circular\") # この条件で正しく推定できていることがわかる。"
      ]
    },
    {
      "cell_type": "code",
      "execution_count": 17,
      "metadata": {
        "colab": {
          "base_uri": "https://localhost:8080/",
          "height": 357
        },
        "id": "LbkzZsPrtSOt",
        "outputId": "32e5f061-dc83-44cd-f56b-009a6fb79ce9"
      },
      "outputs": [
        {
          "output_type": "display_data",
          "data": {
            "text/plain": [
              "<Figure size 648x432 with 1 Axes>"
            ],
            "image/png": "[encoded data removed]"
          },
          "metadata": {}
        }
      ],
      "source": [
        "# largest subgraphを抽出\n",
        "sm = sm.get_largest_subgraph()\n",
        "nx_util.plot_structure_model(sm, layout_method=\"random\", figsize=(9,6))"
      ]
    },
    {
      "cell_type": "code",
      "execution_count": 18,
      "metadata": {
        "id": "_BxdVomg49qR",
        "outputId": "e6760ed4-b78e-431c-d586-503612d217bf",
        "colab": {
          "base_uri": "https://localhost:8080/"
        }
      },
      "outputs": [
        {
          "output_type": "stream",
          "name": "stdout",
          "text": [
            "[ x1 ] ---> [ y ]\t\tWeight\t1.05582\n",
            "[ c1 ] ---> [ x1 ]\t\tWeight\t0.93608\n",
            "[ c1 ] ---> [ y ]\t\tWeight\t0.91724\n",
            "[ c2 ] ---> [ x1 ]\t\tWeight\t1.05973\n",
            "[ c2 ] ---> [ y ]\t\tWeight\t0.49489\n"
          ]
        }
      ],
      "source": [
        "# 係数をprint\n",
        "nx_util.print_weights(sm)"
      ]
    },
    {
      "cell_type": "code",
      "execution_count": null,
      "metadata": {
        "id": "S6STtYsN49qS"
      },
      "outputs": [],
      "source": []
    },
    {
      "cell_type": "markdown",
      "metadata": {
        "id": "BBZrdKO549qS"
      },
      "source": [
        "## NO TEARSでTabuを指定して因果グラフを推定"
      ]
    },
    {
      "cell_type": "code",
      "execution_count": 19,
      "metadata": {
        "colab": {
          "base_uri": "https://localhost:8080/",
          "height": 355
        },
        "id": "81tf80lnr6MK",
        "outputId": "2b54efa5-d0ae-4f1d-d013-13363eb5fdd7"
      },
      "outputs": [
        {
          "output_type": "stream",
          "name": "stdout",
          "text": [
            "[ y ] ---> [ x1 ]\t\tWeight\t0.75815\n",
            "[ y ] ---> [ c2 ]\t\tWeight\t0.22665\n",
            "[ c1 ] ---> [ c2 ]\t\tWeight\t-0.32098\n"
          ]
        },
        {
          "output_type": "display_data",
          "data": {
            "text/plain": [
              "<Figure size 360x360 with 1 Axes>"
            ],
            "image/png": "[encoded data removed]"
          },
          "metadata": {}
        }
      ],
      "source": [
        "# struct data\n",
        "sm_with_tabu = from_pandas(\n",
        "    struct_data,\n",
        "    tabu_edges = [(\"c1\", \"x1\")], # c1 --> x1 に線が引かれなくなる。\n",
        "    tabu_parent_nodes = [\"c2\"], # 親ノードにならなくなる。矢印元にならなくなる。\n",
        "    tabu_child_nodes = [\"y\"], # 子ノードにならなくなる。矢印が刺されなくなる。\n",
        ")\n",
        "sm_with_tabu.threshold_till_dag()\n",
        "sm_with_tabu.remove_edges_below_threshold(0.2)\n",
        "\n",
        "nx_util.plot_structure_model(structure_model=sm_with_tabu, layout_method=\"circular\") # \n",
        "nx_util.print_weights(sm_with_tabu) # 係数を print"
      ]
    },
    {
      "cell_type": "code",
      "execution_count": null,
      "metadata": {
        "id": "89L97xtY49qT"
      },
      "outputs": [],
      "source": []
    },
    {
      "cell_type": "code",
      "execution_count": null,
      "metadata": {
        "id": "xkGDYCRB49qT"
      },
      "outputs": [],
      "source": []
    },
    {
      "cell_type": "markdown",
      "metadata": {
        "id": "y5BvtNFZoHah"
      },
      "source": [
        "## NO TEARSで推定した因果グラフから、ベイジアンネットを推定"
      ]
    },
    {
      "cell_type": "code",
      "execution_count": 20,
      "metadata": {
        "id": "3TX1WUmbtLXl"
      },
      "outputs": [],
      "source": [
        "# ベイジアンネットを推定するために離散化\n",
        "discretised_data = struct_data.copy().drop([\"x2\"], axis=1)\n",
        "discretised_data[\"y\"] = Discretiser(method=\"quantile\", num_buckets=5).fit_transform(discretised_data[\"y\"].values)\n",
        "discretised_data[\"x1\"] = Discretiser(method=\"uniform\", num_buckets=5).fit_transform(discretised_data[\"x1\"].values)\n",
        "discretised_data[\"c1\"] = Discretiser(method=\"percentiles\", percentile_split_points=[0.25, 0.5, 0.75]).fit_transform(discretised_data[\"c1\"].values)\n",
        "discretised_data[\"c2\"] = Discretiser(method=\"fixed\", numeric_split_points=[0,1]).transform(discretised_data[\"c2\"].values)"
      ]
    },
    {
      "cell_type": "code",
      "execution_count": 21,
      "metadata": {
        "id": "39MMuMfCp4cm"
      },
      "outputs": [],
      "source": [
        "# load estimated causal graph\n",
        "bn = BayesianNetwork(sm)\n",
        "\n",
        "bn = bn.fit_node_states(discretised_data) # 取りうるすべての状態を指定、 本来testデータに新出のカテゴリがある場合には判定し、変換する必要がある\n",
        "bn = bn.fit_cpds(discretised_data, method=\"BayesianEstimator\", bayes_prior=\"K2\")"
      ]
    },
    {
      "cell_type": "code",
      "execution_count": 22,
      "metadata": {
        "colab": {
          "base_uri": "https://localhost:8080/",
          "height": 374
        },
        "id": "q3ON4A8Qp4wv",
        "outputId": "f73e9a0b-f788-4b54-feab-8be82dbe5751"
      },
      "outputs": [
        {
          "output_type": "execute_result",
          "data": {
            "text/plain": [
              "c1         0                                                               \\\n",
              "c2         1                                        2                       \n",
              "x1         0         1         2         3    4     0         1         2   \n",
              "y                                                                           \n",
              "0   0.777778  0.701923  0.068966  0.043478  0.2  0.80  0.683168  0.060606   \n",
              "1   0.055556  0.211538  0.275862  0.043478  0.2  0.05  0.217822  0.303030   \n",
              "2   0.055556  0.067308  0.439655  0.043478  0.2  0.05  0.079208  0.325758   \n",
              "3   0.055556  0.009615  0.181034  0.391304  0.2  0.05  0.009901  0.250000   \n",
              "4   0.055556  0.009615  0.034483  0.478261  0.2  0.05  0.009901  0.060606   \n",
              "\n",
              "c1                 ...         3                                          \\\n",
              "c2                 ...         1                                           \n",
              "x1         3    4  ...         0         1         2         3         4   \n",
              "y                  ...                                                     \n",
              "0   0.038462  0.2  ...  0.428571  0.328125  0.007519  0.014925  0.142857   \n",
              "1   0.038462  0.2  ...  0.142857  0.343750  0.097744  0.014925  0.142857   \n",
              "2   0.038462  0.2  ...  0.142857  0.250000  0.180451  0.014925  0.142857   \n",
              "3   0.307692  0.2  ...  0.142857  0.062500  0.413534  0.104478  0.142857   \n",
              "4   0.576923  0.2  ...  0.142857  0.015625  0.300752  0.850746  0.428571   \n",
              "\n",
              "c1                                                    \n",
              "c2         2                                          \n",
              "x1         0         1         2         3         4  \n",
              "y                                                     \n",
              "0   0.714286  0.262295  0.007299  0.019608  0.111111  \n",
              "1   0.071429  0.377049  0.094891  0.019608  0.111111  \n",
              "2   0.071429  0.278689  0.182482  0.019608  0.111111  \n",
              "3   0.071429  0.065574  0.437956  0.058824  0.111111  \n",
              "4   0.071429  0.016393  0.277372  0.882353  0.555556  \n",
              "\n",
              "[5 rows x 40 columns]"
            ],
            "text/html": [
              "\n",
              "  <div id=\"df-d528797d-bf6e-40ef-af29-7dc6540ab172\">\n",
              "    <div class=\"colab-df-container\">\n",
              "      <div>\n",
              "<style scoped>\n",
              "    .dataframe tbody tr th:only-of-type {\n",
              "        vertical-align: middle;\n",
              "    }\n",
              "\n",
              "    .dataframe tbody tr th {\n",
              "        vertical-align: top;\n",
              "    }\n",
              "\n",
              "    .dataframe thead tr th {\n",
              "        text-align: left;\n",
              "    }\n",
              "\n",
              "    .dataframe thead tr:last-of-type th {\n",
              "        text-align: right;\n",
              "    }\n",
              "</style>\n",
              "<table border=\"1\" class=\"dataframe\">\n",
              "  <thead>\n",
              "    <tr>\n",
              "      <th>c1</th>\n",
              "      <th colspan=\"10\" halign=\"left\">0</th>\n",
              "      <th>...</th>\n",
              "      <th colspan=\"10\" halign=\"left\">3</th>\n",
              "    </tr>\n",
              "    <tr>\n",
              "      <th>c2</th>\n",
              "      <th colspan=\"5\" halign=\"left\">1</th>\n",
              "      <th colspan=\"5\" halign=\"left\">2</th>\n",
              "      <th>...</th>\n",
              "      <th colspan=\"5\" halign=\"left\">1</th>\n",
              "      <th colspan=\"5\" halign=\"left\">2</th>\n",
              "    </tr>\n",
              "    <tr>\n",
              "      <th>x1</th>\n",
              "      <th>0</th>\n",
              "      <th>1</th>\n",
              "      <th>2</th>\n",
              "      <th>3</th>\n",
              "      <th>4</th>\n",
              "      <th>0</th>\n",
              "      <th>1</th>\n",
              "      <th>2</th>\n",
              "      <th>3</th>\n",
              "      <th>4</th>\n",
              "      <th>...</th>\n",
              "      <th>0</th>\n",
              "      <th>1</th>\n",
              "      <th>2</th>\n",
              "      <th>3</th>\n",
              "      <th>4</th>\n",
              "      <th>0</th>\n",
              "      <th>1</th>\n",
              "      <th>2</th>\n",
              "      <th>3</th>\n",
              "      <th>4</th>\n",
              "    </tr>\n",
              "    <tr>\n",
              "      <th>y</th>\n",
              "      <th></th>\n",
              "      <th></th>\n",
              "      <th></th>\n",
              "      <th></th>\n",
              "      <th></th>\n",
              "      <th></th>\n",
              "      <th></th>\n",
              "      <th></th>\n",
              "      <th></th>\n",
              "      <th></th>\n",
              "      <th></th>\n",
              "      <th></th>\n",
              "      <th></th>\n",
              "      <th></th>\n",
              "      <th></th>\n",
              "      <th></th>\n",
              "      <th></th>\n",
              "      <th></th>\n",
              "      <th></th>\n",
              "      <th></th>\n",
              "      <th></th>\n",
              "    </tr>\n",
              "  </thead>\n",
              "  <tbody>\n",
              "    <tr>\n",
              "      <th>0</th>\n",
              "      <td>0.777778</td>\n",
              "      <td>0.701923</td>\n",
              "      <td>0.068966</td>\n",
              "      <td>0.043478</td>\n",
              "      <td>0.2</td>\n",
              "      <td>0.80</td>\n",
              "      <td>0.683168</td>\n",
              "      <td>0.060606</td>\n",
              "      <td>0.038462</td>\n",
              "      <td>0.2</td>\n",
              "      <td>...</td>\n",
              "      <td>0.428571</td>\n",
              "      <td>0.328125</td>\n",
              "      <td>0.007519</td>\n",
              "      <td>0.014925</td>\n",
              "      <td>0.142857</td>\n",
              "      <td>0.714286</td>\n",
              "      <td>0.262295</td>\n",
              "      <td>0.007299</td>\n",
              "      <td>0.019608</td>\n",
              "      <td>0.111111</td>\n",
              "    </tr>\n",
              "    <tr>\n",
              "      <th>1</th>\n",
              "      <td>0.055556</td>\n",
              "      <td>0.211538</td>\n",
              "      <td>0.275862</td>\n",
              "      <td>0.043478</td>\n",
              "      <td>0.2</td>\n",
              "      <td>0.05</td>\n",
              "      <td>0.217822</td>\n",
              "      <td>0.303030</td>\n",
              "      <td>0.038462</td>\n",
              "      <td>0.2</td>\n",
              "      <td>...</td>\n",
              "      <td>0.142857</td>\n",
              "      <td>0.343750</td>\n",
              "      <td>0.097744</td>\n",
              "      <td>0.014925</td>\n",
              "      <td>0.142857</td>\n",
              "      <td>0.071429</td>\n",
              "      <td>0.377049</td>\n",
              "      <td>0.094891</td>\n",
              "      <td>0.019608</td>\n",
              "      <td>0.111111</td>\n",
              "    </tr>\n",
              "    <tr>\n",
              "      <th>2</th>\n",
              "      <td>0.055556</td>\n",
              "      <td>0.067308</td>\n",
              "      <td>0.439655</td>\n",
              "      <td>0.043478</td>\n",
              "      <td>0.2</td>\n",
              "      <td>0.05</td>\n",
              "      <td>0.079208</td>\n",
              "      <td>0.325758</td>\n",
              "      <td>0.038462</td>\n",
              "      <td>0.2</td>\n",
              "      <td>...</td>\n",
              "      <td>0.142857</td>\n",
              "      <td>0.250000</td>\n",
              "      <td>0.180451</td>\n",
              "      <td>0.014925</td>\n",
              "      <td>0.142857</td>\n",
              "      <td>0.071429</td>\n",
              "      <td>0.278689</td>\n",
              "      <td>0.182482</td>\n",
              "      <td>0.019608</td>\n",
              "      <td>0.111111</td>\n",
              "    </tr>\n",
              "    <tr>\n",
              "      <th>3</th>\n",
              "      <td>0.055556</td>\n",
              "      <td>0.009615</td>\n",
              "      <td>0.181034</td>\n",
              "      <td>0.391304</td>\n",
              "      <td>0.2</td>\n",
              "      <td>0.05</td>\n",
              "      <td>0.009901</td>\n",
              "      <td>0.250000</td>\n",
              "      <td>0.307692</td>\n",
              "      <td>0.2</td>\n",
              "      <td>...</td>\n",
              "      <td>0.142857</td>\n",
              "      <td>0.062500</td>\n",
              "      <td>0.413534</td>\n",
              "      <td>0.104478</td>\n",
              "      <td>0.142857</td>\n",
              "      <td>0.071429</td>\n",
              "      <td>0.065574</td>\n",
              "      <td>0.437956</td>\n",
              "      <td>0.058824</td>\n",
              "      <td>0.111111</td>\n",
              "    </tr>\n",
              "    <tr>\n",
              "      <th>4</th>\n",
              "      <td>0.055556</td>\n",
              "      <td>0.009615</td>\n",
              "      <td>0.034483</td>\n",
              "      <td>0.478261</td>\n",
              "      <td>0.2</td>\n",
              "      <td>0.05</td>\n",
              "      <td>0.009901</td>\n",
              "      <td>0.060606</td>\n",
              "      <td>0.576923</td>\n",
              "      <td>0.2</td>\n",
              "      <td>...</td>\n",
              "      <td>0.142857</td>\n",
              "      <td>0.015625</td>\n",
              "      <td>0.300752</td>\n",
              "      <td>0.850746</td>\n",
              "      <td>0.428571</td>\n",
              "      <td>0.071429</td>\n",
              "      <td>0.016393</td>\n",
              "      <td>0.277372</td>\n",
              "      <td>0.882353</td>\n",
              "      <td>0.555556</td>\n",
              "    </tr>\n",
              "  </tbody>\n",
              "</table>\n",
              "<p>5 rows × 40 columns</p>\n",
              "</div>\n",
              "      <button class=\"colab-df-convert\" onclick=\"convertToInteractive('df-d528797d-bf6e-40ef-af29-7dc6540ab172')\"\n",
              "              title=\"Convert this dataframe to an interactive table.\"\n",
              "              style=\"display:none;\">\n",
              "        \n",
              "  <svg xmlns=\"http://www.w3.org/2000/svg\" height=\"24px\"viewBox=\"0 0 24 24\"\n",
              "       width=\"24px\">\n",
              "    <path d=\"M0 0h24v24H0V0z\" fill=\"none\"/>\n",
              "    <path d=\"M18.56 5.44l.94 2.06.94-2.06 2.06-.94-2.06-.94-.94-2.06-.94 2.06-2.06.94zm-11 1L8.5 8.5l.94-2.06 2.06-.94-2.06-.94L8.5 2.5l-.94 2.06-2.06.94zm10 10l.94 2.06.94-2.06 2.06-.94-2.06-.94-.94-2.06-.94 2.06-2.06.94z\"/><path d=\"M17.41 7.96l-1.37-1.37c-.4-.4-.92-.59-1.43-.59-.52 0-1.04.2-1.43.59L10.3 9.45l-7.72 7.72c-.78.78-.78 2.05 0 2.83L4 21.41c.39.39.9.59 1.41.59.51 0 1.02-.2 1.41-.59l7.78-7.78 2.81-2.81c.8-.78.8-2.07 0-2.86zM5.41 20L4 18.59l7.72-7.72 1.47 1.35L5.41 20z\"/>\n",
              "  </svg>\n",
              "      </button>\n",
              "      \n",
              "  <style>\n",
              "    .colab-df-container {\n",
              "      display:flex;\n",
              "      flex-wrap:wrap;\n",
              "      gap: 12px;\n",
              "    }\n",
              "\n",
              "    .colab-df-convert {\n",
              "      background-color: #E8F0FE;\n",
              "      border: none;\n",
              "      border-radius: 50%;\n",
              "      cursor: pointer;\n",
              "      display: none;\n",
              "      fill: #1967D2;\n",
              "      height: 32px;\n",
              "      padding: 0 0 0 0;\n",
              "      width: 32px;\n",
              "    }\n",
              "\n",
              "    .colab-df-convert:hover {\n",
              "      background-color: #E2EBFA;\n",
              "      box-shadow: 0px 1px 2px rgba(60, 64, 67, 0.3), 0px 1px 3px 1px rgba(60, 64, 67, 0.15);\n",
              "      fill: #174EA6;\n",
              "    }\n",
              "\n",
              "    [theme=dark] .colab-df-convert {\n",
              "      background-color: #3B4455;\n",
              "      fill: #D2E3FC;\n",
              "    }\n",
              "\n",
              "    [theme=dark] .colab-df-convert:hover {\n",
              "      background-color: #434B5C;\n",
              "      box-shadow: 0px 1px 3px 1px rgba(0, 0, 0, 0.15);\n",
              "      filter: drop-shadow(0px 1px 2px rgba(0, 0, 0, 0.3));\n",
              "      fill: #FFFFFF;\n",
              "    }\n",
              "  </style>\n",
              "\n",
              "      <script>\n",
              "        const buttonEl =\n",
              "          document.querySelector('#df-d528797d-bf6e-40ef-af29-7dc6540ab172 button.colab-df-convert');\n",
              "        buttonEl.style.display =\n",
              "          google.colab.kernel.accessAllowed ? 'block' : 'none';\n",
              "\n",
              "        async function convertToInteractive(key) {\n",
              "          const element = document.querySelector('#df-d528797d-bf6e-40ef-af29-7dc6540ab172');\n",
              "          const dataTable =\n",
              "            await google.colab.kernel.invokeFunction('convertToInteractive',\n",
              "                                                     [key], {});\n",
              "          if (!dataTable) return;\n",
              "\n",
              "          const docLinkHtml = 'Like what you see? Visit the ' +\n",
              "            '<a target=\"_blank\" href=https://colab.research.google.com/notebooks/data_table.ipynb>data table notebook</a>'\n",
              "            + ' to learn more about interactive tables.';\n",
              "          element.innerHTML = '';\n",
              "          dataTable['output_type'] = 'display_data';\n",
              "          await google.colab.output.renderOutput(dataTable, element);\n",
              "          const docLink = document.createElement('div');\n",
              "          docLink.innerHTML = docLinkHtml;\n",
              "          element.appendChild(docLink);\n",
              "        }\n",
              "      </script>\n",
              "    </div>\n",
              "  </div>\n",
              "  "
            ]
          },
          "metadata": {},
          "execution_count": 22
        }
      ],
      "source": [
        "# 条件付き確率を推定\n",
        "bn.cpds[\"y\"]"
      ]
    },
    {
      "cell_type": "code",
      "execution_count": null,
      "metadata": {
        "id": "VP0dd4wX49qU"
      },
      "outputs": [],
      "source": []
    },
    {
      "cell_type": "markdown",
      "metadata": {
        "id": "InxVRVqd49qU"
      },
      "source": [
        "## 推定したモデルから予測値を算出"
      ]
    },
    {
      "cell_type": "code",
      "execution_count": 23,
      "metadata": {
        "id": "DVIKnuB6p45T"
      },
      "outputs": [],
      "source": [
        "pred_target_col = \"y\"\n",
        "parents_columns = bn.cpds[pred_target_col].columns.names # 予測対象カラムの親ノードのみ必要であるためsliceする、sliceせずとも実行可能\n",
        "y_pred = bn.predict(discretised_data[parents_columns], pred_target_col)\n",
        "y_predict_proba = bn.predict_probability(discretised_data[parents_columns], pred_target_col) # 予測確率"
      ]
    },
    {
      "cell_type": "code",
      "execution_count": 24,
      "metadata": {
        "id": "9itRy4ni49qV",
        "outputId": "9d7f1755-2e5d-4076-ba90-a7a0bb06087a",
        "colab": {
          "base_uri": "https://localhost:8080/"
        }
      },
      "outputs": [
        {
          "output_type": "execute_result",
          "data": {
            "text/plain": [
              "0    4\n",
              "1    0\n",
              "2    2\n",
              "3    2\n",
              "4    4\n",
              "Name: y, dtype: int64"
            ]
          },
          "metadata": {},
          "execution_count": 24
        }
      ],
      "source": [
        "# 実測値\n",
        "discretised_data[\"y\"].head(5)"
      ]
    },
    {
      "cell_type": "code",
      "execution_count": 25,
      "metadata": {
        "colab": {
          "base_uri": "https://localhost:8080/",
          "height": 206
        },
        "id": "WlU3ie8rq8e6",
        "outputId": "d2d97264-5dac-41d7-be48-1af20a88a50b"
      },
      "outputs": [
        {
          "output_type": "execute_result",
          "data": {
            "text/plain": [
              "   y_prediction\n",
              "0             4\n",
              "1             1\n",
              "2             3\n",
              "3             1\n",
              "4             4"
            ],
            "text/html": [
              "\n",
              "  <div id=\"df-cc3ed930-0204-43fd-96d3-dd218b195dab\">\n",
              "    <div class=\"colab-df-container\">\n",
              "      <div>\n",
              "<style scoped>\n",
              "    .dataframe tbody tr th:only-of-type {\n",
              "        vertical-align: middle;\n",
              "    }\n",
              "\n",
              "    .dataframe tbody tr th {\n",
              "        vertical-align: top;\n",
              "    }\n",
              "\n",
              "    .dataframe thead th {\n",
              "        text-align: right;\n",
              "    }\n",
              "</style>\n",
              "<table border=\"1\" class=\"dataframe\">\n",
              "  <thead>\n",
              "    <tr style=\"text-align: right;\">\n",
              "      <th></th>\n",
              "      <th>y_prediction</th>\n",
              "    </tr>\n",
              "  </thead>\n",
              "  <tbody>\n",
              "    <tr>\n",
              "      <th>0</th>\n",
              "      <td>4</td>\n",
              "    </tr>\n",
              "    <tr>\n",
              "      <th>1</th>\n",
              "      <td>1</td>\n",
              "    </tr>\n",
              "    <tr>\n",
              "      <th>2</th>\n",
              "      <td>3</td>\n",
              "    </tr>\n",
              "    <tr>\n",
              "      <th>3</th>\n",
              "      <td>1</td>\n",
              "    </tr>\n",
              "    <tr>\n",
              "      <th>4</th>\n",
              "      <td>4</td>\n",
              "    </tr>\n",
              "  </tbody>\n",
              "</table>\n",
              "</div>\n",
              "      <button class=\"colab-df-convert\" onclick=\"convertToInteractive('df-cc3ed930-0204-43fd-96d3-dd218b195dab')\"\n",
              "              title=\"Convert this dataframe to an interactive table.\"\n",
              "              style=\"display:none;\">\n",
              "        \n",
              "  <svg xmlns=\"http://www.w3.org/2000/svg\" height=\"24px\"viewBox=\"0 0 24 24\"\n",
              "       width=\"24px\">\n",
              "    <path d=\"M0 0h24v24H0V0z\" fill=\"none\"/>\n",
              "    <path d=\"M18.56 5.44l.94 2.06.94-2.06 2.06-.94-2.06-.94-.94-2.06-.94 2.06-2.06.94zm-11 1L8.5 8.5l.94-2.06 2.06-.94-2.06-.94L8.5 2.5l-.94 2.06-2.06.94zm10 10l.94 2.06.94-2.06 2.06-.94-2.06-.94-.94-2.06-.94 2.06-2.06.94z\"/><path d=\"M17.41 7.96l-1.37-1.37c-.4-.4-.92-.59-1.43-.59-.52 0-1.04.2-1.43.59L10.3 9.45l-7.72 7.72c-.78.78-.78 2.05 0 2.83L4 21.41c.39.39.9.59 1.41.59.51 0 1.02-.2 1.41-.59l7.78-7.78 2.81-2.81c.8-.78.8-2.07 0-2.86zM5.41 20L4 18.59l7.72-7.72 1.47 1.35L5.41 20z\"/>\n",
              "  </svg>\n",
              "      </button>\n",
              "      \n",
              "  <style>\n",
              "    .colab-df-container {\n",
              "      display:flex;\n",
              "      flex-wrap:wrap;\n",
              "      gap: 12px;\n",
              "    }\n",
              "\n",
              "    .colab-df-convert {\n",
              "      background-color: #E8F0FE;\n",
              "      border: none;\n",
              "      border-radius: 50%;\n",
              "      cursor: pointer;\n",
              "      display: none;\n",
              "      fill: #1967D2;\n",
              "      height: 32px;\n",
              "      padding: 0 0 0 0;\n",
              "      width: 32px;\n",
              "    }\n",
              "\n",
              "    .colab-df-convert:hover {\n",
              "      background-color: #E2EBFA;\n",
              "      box-shadow: 0px 1px 2px rgba(60, 64, 67, 0.3), 0px 1px 3px 1px rgba(60, 64, 67, 0.15);\n",
              "      fill: #174EA6;\n",
              "    }\n",
              "\n",
              "    [theme=dark] .colab-df-convert {\n",
              "      background-color: #3B4455;\n",
              "      fill: #D2E3FC;\n",
              "    }\n",
              "\n",
              "    [theme=dark] .colab-df-convert:hover {\n",
              "      background-color: #434B5C;\n",
              "      box-shadow: 0px 1px 3px 1px rgba(0, 0, 0, 0.15);\n",
              "      filter: drop-shadow(0px 1px 2px rgba(0, 0, 0, 0.3));\n",
              "      fill: #FFFFFF;\n",
              "    }\n",
              "  </style>\n",
              "\n",
              "      <script>\n",
              "        const buttonEl =\n",
              "          document.querySelector('#df-cc3ed930-0204-43fd-96d3-dd218b195dab button.colab-df-convert');\n",
              "        buttonEl.style.display =\n",
              "          google.colab.kernel.accessAllowed ? 'block' : 'none';\n",
              "\n",
              "        async function convertToInteractive(key) {\n",
              "          const element = document.querySelector('#df-cc3ed930-0204-43fd-96d3-dd218b195dab');\n",
              "          const dataTable =\n",
              "            await google.colab.kernel.invokeFunction('convertToInteractive',\n",
              "                                                     [key], {});\n",
              "          if (!dataTable) return;\n",
              "\n",
              "          const docLinkHtml = 'Like what you see? Visit the ' +\n",
              "            '<a target=\"_blank\" href=https://colab.research.google.com/notebooks/data_table.ipynb>data table notebook</a>'\n",
              "            + ' to learn more about interactive tables.';\n",
              "          element.innerHTML = '';\n",
              "          dataTable['output_type'] = 'display_data';\n",
              "          await google.colab.output.renderOutput(dataTable, element);\n",
              "          const docLink = document.createElement('div');\n",
              "          docLink.innerHTML = docLinkHtml;\n",
              "          element.appendChild(docLink);\n",
              "        }\n",
              "      </script>\n",
              "    </div>\n",
              "  </div>\n",
              "  "
            ]
          },
          "metadata": {},
          "execution_count": 25
        }
      ],
      "source": [
        "# 予測値\n",
        "y_pred.head(5)"
      ]
    },
    {
      "cell_type": "code",
      "execution_count": 26,
      "metadata": {
        "colab": {
          "base_uri": "https://localhost:8080/",
          "height": 206
        },
        "id": "BkGjjo1-p5Aq",
        "outputId": "c7aa8508-b4a3-4524-9527-937f56a9dcaf"
      },
      "outputs": [
        {
          "output_type": "execute_result",
          "data": {
            "text/plain": [
              "        y_0       y_1       y_2       y_3       y_4\n",
              "0  0.019608  0.019608  0.019608  0.058824  0.882353\n",
              "1  0.350649  0.428571  0.181818  0.025974  0.012987\n",
              "2  0.007519  0.097744  0.180451  0.413534  0.300752\n",
              "3  0.262295  0.377049  0.278689  0.065574  0.016393\n",
              "4  0.014925  0.014925  0.014925  0.104478  0.850746"
            ],
            "text/html": [
              "\n",
              "  <div id=\"df-37965416-6764-4abe-939f-7c3f737d8a25\">\n",
              "    <div class=\"colab-df-container\">\n",
              "      <div>\n",
              "<style scoped>\n",
              "    .dataframe tbody tr th:only-of-type {\n",
              "        vertical-align: middle;\n",
              "    }\n",
              "\n",
              "    .dataframe tbody tr th {\n",
              "        vertical-align: top;\n",
              "    }\n",
              "\n",
              "    .dataframe thead th {\n",
              "        text-align: right;\n",
              "    }\n",
              "</style>\n",
              "<table border=\"1\" class=\"dataframe\">\n",
              "  <thead>\n",
              "    <tr style=\"text-align: right;\">\n",
              "      <th></th>\n",
              "      <th>y_0</th>\n",
              "      <th>y_1</th>\n",
              "      <th>y_2</th>\n",
              "      <th>y_3</th>\n",
              "      <th>y_4</th>\n",
              "    </tr>\n",
              "  </thead>\n",
              "  <tbody>\n",
              "    <tr>\n",
              "      <th>0</th>\n",
              "      <td>0.019608</td>\n",
              "      <td>0.019608</td>\n",
              "      <td>0.019608</td>\n",
              "      <td>0.058824</td>\n",
              "      <td>0.882353</td>\n",
              "    </tr>\n",
              "    <tr>\n",
              "      <th>1</th>\n",
              "      <td>0.350649</td>\n",
              "      <td>0.428571</td>\n",
              "      <td>0.181818</td>\n",
              "      <td>0.025974</td>\n",
              "      <td>0.012987</td>\n",
              "    </tr>\n",
              "    <tr>\n",
              "      <th>2</th>\n",
              "      <td>0.007519</td>\n",
              "      <td>0.097744</td>\n",
              "      <td>0.180451</td>\n",
              "      <td>0.413534</td>\n",
              "      <td>0.300752</td>\n",
              "    </tr>\n",
              "    <tr>\n",
              "      <th>3</th>\n",
              "      <td>0.262295</td>\n",
              "      <td>0.377049</td>\n",
              "      <td>0.278689</td>\n",
              "      <td>0.065574</td>\n",
              "      <td>0.016393</td>\n",
              "    </tr>\n",
              "    <tr>\n",
              "      <th>4</th>\n",
              "      <td>0.014925</td>\n",
              "      <td>0.014925</td>\n",
              "      <td>0.014925</td>\n",
              "      <td>0.104478</td>\n",
              "      <td>0.850746</td>\n",
              "    </tr>\n",
              "  </tbody>\n",
              "</table>\n",
              "</div>\n",
              "      <button class=\"colab-df-convert\" onclick=\"convertToInteractive('df-37965416-6764-4abe-939f-7c3f737d8a25')\"\n",
              "              title=\"Convert this dataframe to an interactive table.\"\n",
              "              style=\"display:none;\">\n",
              "        \n",
              "  <svg xmlns=\"http://www.w3.org/2000/svg\" height=\"24px\"viewBox=\"0 0 24 24\"\n",
              "       width=\"24px\">\n",
              "    <path d=\"M0 0h24v24H0V0z\" fill=\"none\"/>\n",
              "    <path d=\"M18.56 5.44l.94 2.06.94-2.06 2.06-.94-2.06-.94-.94-2.06-.94 2.06-2.06.94zm-11 1L8.5 8.5l.94-2.06 2.06-.94-2.06-.94L8.5 2.5l-.94 2.06-2.06.94zm10 10l.94 2.06.94-2.06 2.06-.94-2.06-.94-.94-2.06-.94 2.06-2.06.94z\"/><path d=\"M17.41 7.96l-1.37-1.37c-.4-.4-.92-.59-1.43-.59-.52 0-1.04.2-1.43.59L10.3 9.45l-7.72 7.72c-.78.78-.78 2.05 0 2.83L4 21.41c.39.39.9.59 1.41.59.51 0 1.02-.2 1.41-.59l7.78-7.78 2.81-2.81c.8-.78.8-2.07 0-2.86zM5.41 20L4 18.59l7.72-7.72 1.47 1.35L5.41 20z\"/>\n",
              "  </svg>\n",
              "      </button>\n",
              "      \n",
              "  <style>\n",
              "    .colab-df-container {\n",
              "      display:flex;\n",
              "      flex-wrap:wrap;\n",
              "      gap: 12px;\n",
              "    }\n",
              "\n",
              "    .colab-df-convert {\n",
              "      background-color: #E8F0FE;\n",
              "      border: none;\n",
              "      border-radius: 50%;\n",
              "      cursor: pointer;\n",
              "      display: none;\n",
              "      fill: #1967D2;\n",
              "      height: 32px;\n",
              "      padding: 0 0 0 0;\n",
              "      width: 32px;\n",
              "    }\n",
              "\n",
              "    .colab-df-convert:hover {\n",
              "      background-color: #E2EBFA;\n",
              "      box-shadow: 0px 1px 2px rgba(60, 64, 67, 0.3), 0px 1px 3px 1px rgba(60, 64, 67, 0.15);\n",
              "      fill: #174EA6;\n",
              "    }\n",
              "\n",
              "    [theme=dark] .colab-df-convert {\n",
              "      background-color: #3B4455;\n",
              "      fill: #D2E3FC;\n",
              "    }\n",
              "\n",
              "    [theme=dark] .colab-df-convert:hover {\n",
              "      background-color: #434B5C;\n",
              "      box-shadow: 0px 1px 3px 1px rgba(0, 0, 0, 0.15);\n",
              "      filter: drop-shadow(0px 1px 2px rgba(0, 0, 0, 0.3));\n",
              "      fill: #FFFFFF;\n",
              "    }\n",
              "  </style>\n",
              "\n",
              "      <script>\n",
              "        const buttonEl =\n",
              "          document.querySelector('#df-37965416-6764-4abe-939f-7c3f737d8a25 button.colab-df-convert');\n",
              "        buttonEl.style.display =\n",
              "          google.colab.kernel.accessAllowed ? 'block' : 'none';\n",
              "\n",
              "        async function convertToInteractive(key) {\n",
              "          const element = document.querySelector('#df-37965416-6764-4abe-939f-7c3f737d8a25');\n",
              "          const dataTable =\n",
              "            await google.colab.kernel.invokeFunction('convertToInteractive',\n",
              "                                                     [key], {});\n",
              "          if (!dataTable) return;\n",
              "\n",
              "          const docLinkHtml = 'Like what you see? Visit the ' +\n",
              "            '<a target=\"_blank\" href=https://colab.research.google.com/notebooks/data_table.ipynb>data table notebook</a>'\n",
              "            + ' to learn more about interactive tables.';\n",
              "          element.innerHTML = '';\n",
              "          dataTable['output_type'] = 'display_data';\n",
              "          await google.colab.output.renderOutput(dataTable, element);\n",
              "          const docLink = document.createElement('div');\n",
              "          docLink.innerHTML = docLinkHtml;\n",
              "          element.appendChild(docLink);\n",
              "        }\n",
              "      </script>\n",
              "    </div>\n",
              "  </div>\n",
              "  "
            ]
          },
          "metadata": {},
          "execution_count": 26
        }
      ],
      "source": [
        "# 予測確率\n",
        "y_predict_proba.head(5)"
      ]
    },
    {
      "cell_type": "code",
      "execution_count": null,
      "metadata": {
        "id": "NT-crqy4rR4p"
      },
      "outputs": [],
      "source": []
    },
    {
      "cell_type": "code",
      "execution_count": null,
      "metadata": {
        "id": "-lJH_yYUryld"
      },
      "outputs": [],
      "source": []
    }
  ],
  "metadata": {
    "colab": {
      "collapsed_sections": [],
      "name": "202105_causalnex_trial.ipynb",
      "provenance": []
    },
    "kernelspec": {
      "display_name": "Python 3",
      "language": "python",
      "name": "python3"
    },
    "language_info": {
      "codemirror_mode": {
        "name": "ipython",
        "version": 3
      },
      "file_extension": ".py",
      "mimetype": "text/x-python",
      "name": "python",
      "nbconvert_exporter": "python",
      "pygments_lexer": "ipython3",
      "version": "3.9.1"
    }
  },
  "nbformat": 4,
  "nbformat_minor": 0
}