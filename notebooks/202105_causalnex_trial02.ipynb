{
  "cells": [
    {
      "cell_type": "markdown",
      "metadata": {
        "id": "1C-xIUil9XSA"
      },
      "source": [
        "# causalnex Trial 02\n",
        "\n",
        "sklearnrライクなmethodを用いた因果グラフ推定。Lasso, pytorchを用いたNOTEARSの因果グラフ推定。\n",
        "\n",
        "- DAGClassifier, DAGRegressor\n",
        "- from_pandas_lasso, from_pandas(pytorch)"
      ]
    },
    {
      "cell_type": "code",
      "source": [
        "!ls"
      ],
      "metadata": {
        "id": "MoszOCh69Zg1",
        "outputId": "b49366aa-e0cb-4535-f818-a11ce8c8dafc",
        "colab": {
          "base_uri": "https://localhost:8080/"
        }
      },
      "execution_count": 1,
      "outputs": [
        {
          "output_type": "stream",
          "name": "stdout",
          "text": [
            "sample_data\n"
          ]
        }
      ]
    },
    {
      "cell_type": "code",
      "source": [
        "!git clone https://github.com/HisakaKoji/blog.git"
      ],
      "metadata": {
        "id": "6rJyh_7S9kyx",
        "outputId": "6789a717-ae79-4125-ad2f-13d71b2ed6e3",
        "colab": {
          "base_uri": "https://localhost:8080/"
        }
      },
      "execution_count": 2,
      "outputs": [
        {
          "output_type": "stream",
          "name": "stdout",
          "text": [
            "Cloning into 'blog'...\n",
            "remote: Enumerating objects: 51, done.\u001b[K\n",
            "remote: Counting objects: 100% (51/51), done.\u001b[K\n",
            "remote: Compressing objects: 100% (47/47), done.\u001b[K\n",
            "remote: Total 51 (delta 19), reused 0 (delta 0), pack-reused 0\u001b[K\n",
            "Unpacking objects: 100% (51/51), done.\n"
          ]
        }
      ]
    },
    {
      "cell_type": "code",
      "source": [
        "%cd blog"
      ],
      "metadata": {
        "id": "VMOZda8v9m3J",
        "outputId": "4d6dcdfb-167e-4bb0-8af6-068fabd932f2",
        "colab": {
          "base_uri": "https://localhost:8080/"
        }
      },
      "execution_count": 3,
      "outputs": [
        {
          "output_type": "stream",
          "name": "stdout",
          "text": [
            "/content/blog\n"
          ]
        }
      ]
    },
    {
      "cell_type": "code",
      "source": [
        "%cd notebooks"
      ],
      "metadata": {
        "id": "YepSGYAI9okv",
        "outputId": "c5f75baf-74cb-4fb3-84a7-f89082f5f9f0",
        "colab": {
          "base_uri": "https://localhost:8080/"
        }
      },
      "execution_count": 4,
      "outputs": [
        {
          "output_type": "stream",
          "name": "stdout",
          "text": [
            "/content/blog/notebooks\n"
          ]
        }
      ]
    },
    {
      "cell_type": "markdown",
      "metadata": {
        "id": "CXoqp9iF9XSG"
      },
      "source": [
        "# 必要パッケージ インストール & import"
      ]
    },
    {
      "cell_type": "code",
      "execution_count": 5,
      "metadata": {
        "id": "MTlnyFZ19XSH"
      },
      "outputs": [],
      "source": [
        "!pip install causalnex\n",
        "!pip install networkx\n",
        "!pip install pgmpy\n",
        "from IPython.display import clear_output\n",
        "clear_output()"
      ]
    },
    {
      "cell_type": "code",
      "execution_count": 6,
      "metadata": {
        "id": "pPj_Kq3f9XSI"
      },
      "outputs": [],
      "source": [
        "import numpy as np\n",
        "import pandas as pd\n",
        "\n",
        "import matplotlib.pyplot as plt\n",
        "import networkx as nx\n",
        "import warnings; warnings.simplefilter(\"ignore\")\n",
        "%matplotlib inline"
      ]
    },
    {
      "cell_type": "code",
      "execution_count": 7,
      "metadata": {
        "id": "jVwGIVyz9XSJ"
      },
      "outputs": [],
      "source": [
        "import causalnex\n",
        "from causalnex.structure.notears import from_pandas , from_pandas_lasso\n",
        "from causalnex.structure.pytorch import from_pandas as from_pandas_pytorch\n",
        "\n",
        "from causalnex.structure import DAGClassifier, DAGRegressor"
      ]
    },
    {
      "cell_type": "code",
      "execution_count": 8,
      "metadata": {
        "id": "sRygyWZ39XSK"
      },
      "outputs": [],
      "source": [
        "# networkx_util\n",
        "from util.networkx_util import NetworkxUtil\n",
        "nx_util = NetworkxUtil() # networkxの図示, printのためのutil"
      ]
    },
    {
      "cell_type": "code",
      "execution_count": null,
      "metadata": {
        "id": "47vVuR-a9XSK"
      },
      "outputs": [],
      "source": []
    },
    {
      "cell_type": "markdown",
      "metadata": {
        "id": "s6dRvEqM9XSL"
      },
      "source": [
        "# サンプルデータ"
      ]
    },
    {
      "cell_type": "code",
      "execution_count": 9,
      "metadata": {
        "id": "AVsE-zon9XSM"
      },
      "outputs": [],
      "source": [
        "def generate_sample_data(n_samples=1000):\n",
        "    \"\"\"\n",
        "    サンプルデータ生成\n",
        "    | c1 --> x1\n",
        "    | c2 --> x1\n",
        "    | c1 --> y\n",
        "    | c2 --> y\n",
        "    | x1 --> y\n",
        "    | x2 は独立\n",
        "    \"\"\"\n",
        "    np.random.seed(0)\n",
        "    c1 = np.random.normal(0, 0.5, size=n_samples)\n",
        "    c2 = np.random.choice(2, size=n_samples)\n",
        "\n",
        "    np.random.seed(1)\n",
        "    x1 = np.random.normal(1, 2, size=n_samples) + c1 + c2/10\n",
        "\n",
        "    np.random.seed(2)\n",
        "    y = np.random.uniform(-1,2, size=n_samples) + x1 + c1 + c2 /10\n",
        "\n",
        "    np.random.seed(3)\n",
        "    x2 = np.random.uniform(-2, 2, size=n_samples)\n",
        "    raw_data = pd.DataFrame({\"x1\": x1, \"y\":y, \"x2\": x2, \"c1\": c1, \"c2\":c2})\n",
        "    return raw_data"
      ]
    },
    {
      "cell_type": "code",
      "execution_count": 10,
      "metadata": {
        "id": "wnCZOw4E9XSN",
        "outputId": "7f8764aa-d5e5-4d87-d5f7-fd48c403430f",
        "colab": {
          "base_uri": "https://localhost:8080/"
        }
      },
      "outputs": [
        {
          "output_type": "stream",
          "name": "stdout",
          "text": [
            "(2000, 4)\n"
          ]
        }
      ],
      "source": [
        "n_samples = 2000\n",
        "struct_data = generate_sample_data(n_samples)\n",
        "\n",
        "X = struct_data.drop([\"y\"], axis=1)\n",
        "y = struct_data[\"y\"]\n",
        "print(X.shape)"
      ]
    },
    {
      "cell_type": "code",
      "execution_count": null,
      "metadata": {
        "id": "rzbFSW_l9XSO"
      },
      "outputs": [],
      "source": []
    },
    {
      "cell_type": "markdown",
      "metadata": {
        "id": "M1YIY3Wh9XSO"
      },
      "source": [
        "# NOTEARSをsklearn interfaceのmethodで実行"
      ]
    },
    {
      "cell_type": "markdown",
      "metadata": {
        "id": "rKTM-vua9XSP"
      },
      "source": [
        "## DAGRegressor"
      ]
    },
    {
      "cell_type": "code",
      "execution_count": 11,
      "metadata": {
        "id": "sQx-TG3a9XSP"
      },
      "outputs": [],
      "source": [
        "dist_type_schema = {\n",
        "    \"x1\" : \"cont\",\n",
        "    \"x2\" : \"cont\",\n",
        "    \"c1\" : \"cont\",\n",
        "    \"c2\" : \"bin\",\n",
        "    \"y\" : \"cont\"\n",
        "}"
      ]
    },
    {
      "cell_type": "code",
      "execution_count": 12,
      "metadata": {
        "id": "rmsMcvSG9XSP"
      },
      "outputs": [],
      "source": [
        "reg = DAGRegressor(\n",
        "    threshold= 0.08,  # edge weightの閾値\n",
        "    dist_type_schema = dist_type_schema,#  dist_typeを指定することも可能\n",
        "    alpha = 0., # L1\n",
        "    beta = 0., # L2 \n",
        "    hidden_layer_units = None,\n",
        "    standardize=False,\n",
        "    enforce_dag=True,\n",
        "    tabu_edges=None,\n",
        "    tabu_parent_nodes=None,\n",
        "    tabu_child_nodes=None,\n",
        "    dependent_target = True # yは親ノードにならない制約\n",
        ")"
      ]
    },
    {
      "cell_type": "code",
      "execution_count": 13,
      "metadata": {
        "id": "DlPR0miT9XSQ",
        "outputId": "bcc03381-6178-4f3b-c25c-cad62be4ff1a",
        "colab": {
          "base_uri": "https://localhost:8080/"
        }
      },
      "outputs": [
        {
          "output_type": "stream",
          "name": "stdout",
          "text": [
            "[ 6.62433052  0.81901956  1.386024   ... -0.0155662   1.82587767\n",
            "  2.93284583]\n"
          ]
        }
      ],
      "source": [
        "# sklearnライクでfit, predict\n",
        "reg.fit(X, y)\n",
        "y_pred = reg.predict(X)\n",
        "print(y_pred)"
      ]
    },
    {
      "cell_type": "code",
      "execution_count": 14,
      "metadata": {
        "id": "NYdx9hkI9XSQ",
        "outputId": "035d1cc5-7be2-47d9-842c-463037e7da04",
        "colab": {
          "base_uri": "https://localhost:8080/",
          "height": 357
        }
      },
      "outputs": [
        {
          "output_type": "display_data",
          "data": {
            "text/plain": [
              "<Figure size 432x432 with 1 Axes>"
            ],
            "image/png": "[encoded data removed]"
          },
          "metadata": {}
        }
      ],
      "source": [
        "# plot structure model\n",
        "sm = reg.graph_\n",
        "sm = sm.get_largest_subgraph()\n",
        "nx_util.plot_structure_model(sm, layout_method=\"random\", figsize=(6,6), layout_seed=1)"
      ]
    },
    {
      "cell_type": "code",
      "execution_count": 15,
      "metadata": {
        "id": "Q2eD-Q8F9XSQ",
        "outputId": "b6d04e09-1140-41d1-af19-af087c129ea3",
        "colab": {
          "base_uri": "https://localhost:8080/"
        }
      },
      "outputs": [
        {
          "output_type": "stream",
          "name": "stdout",
          "text": [
            "[ x1 ] ---> [ y ]\t\tWeight\t0.99692\n",
            "[ c1 ] ---> [ x1 ]\t\tWeight\t0.91944\n",
            "[ c1 ] ---> [ y ]\t\tWeight\t0.96849\n",
            "[ c2 ] ---> [ x1 ]\t\tWeight\t0.10456\n",
            "[ c2 ] ---> [ y ]\t\tWeight\t0.08597\n"
          ]
        }
      ],
      "source": [
        "# weightをprint\n",
        "nx_util.print_weights(sm)"
      ]
    },
    {
      "cell_type": "code",
      "execution_count": null,
      "metadata": {
        "id": "D8jvtJT39XSR"
      },
      "outputs": [],
      "source": []
    },
    {
      "cell_type": "markdown",
      "metadata": {
        "id": "QCItO_Nz9XSR"
      },
      "source": [
        "## DAGClassifier"
      ]
    },
    {
      "cell_type": "code",
      "execution_count": 16,
      "metadata": {
        "id": "fiTnWnrM9XSR"
      },
      "outputs": [],
      "source": [
        "# 2値分類タスクに変換\n",
        "y = y > np.median(y)\n",
        "y = y.astype(int)"
      ]
    },
    {
      "cell_type": "code",
      "execution_count": 17,
      "metadata": {
        "id": "-m2eBOeY9XSR"
      },
      "outputs": [],
      "source": [
        "clf = DAGClassifier(\n",
        "    threshold= 0.1, # edge weightの閾値\n",
        "    #dist_type_schema = dist_type_schema,\n",
        "    alpha = 0.0, # L1\n",
        "    beta = 0.0,\n",
        "    hidden_layer_units =None,\n",
        "    standardize=False,\n",
        "    enforce_dag=True,\n",
        "    tabu_edges=None,\n",
        "    tabu_parent_nodes=[\"y\"],\n",
        "    tabu_child_nodes=None,\n",
        "    dependent_target = True # yは親ノードにならない制約\n",
        ")"
      ]
    },
    {
      "cell_type": "code",
      "execution_count": 18,
      "metadata": {
        "id": "Um4JLNmX9XSS"
      },
      "outputs": [],
      "source": [
        "clf.fit(X, y)\n",
        "y_pred = clf.predict(X)\n",
        "y_pred_proba = clf.predict_proba(X)"
      ]
    },
    {
      "cell_type": "code",
      "execution_count": 19,
      "metadata": {
        "id": "_Z8Spge39XSS",
        "outputId": "83a0c05d-59b8-41b5-afbe-c2ad3a264ccd",
        "colab": {
          "base_uri": "https://localhost:8080/"
        }
      },
      "outputs": [
        {
          "output_type": "stream",
          "name": "stdout",
          "text": [
            "Pred Label:  [1 0 0 1 1]\n",
            "Pred Proba : [[5.41210175e-05 9.99945879e-01]\n",
            " [8.21812585e-01 1.78187415e-01]\n",
            " [5.93134105e-01 4.06865895e-01]\n",
            " [4.42539692e-01 5.57460308e-01]\n",
            " [1.29222870e-03 9.98707771e-01]]\n"
          ]
        }
      ],
      "source": [
        "print(\"Pred Label: \" ,y_pred[:5])\n",
        "print(\"Pred Proba :\",y_pred_proba[:5])"
      ]
    },
    {
      "cell_type": "code",
      "execution_count": 20,
      "metadata": {
        "id": "h_NAsYJt9XSS",
        "outputId": "1da472b2-17dc-491f-bdf7-b2a78033170c",
        "colab": {
          "base_uri": "https://localhost:8080/",
          "height": 357
        }
      },
      "outputs": [
        {
          "output_type": "display_data",
          "data": {
            "text/plain": [
              "<Figure size 432x432 with 1 Axes>"
            ],
            "image/png": "[encoded data removed]"
          },
          "metadata": {}
        }
      ],
      "source": [
        "# plot structure model\n",
        "sm = clf.graph_\n",
        "sm = sm.get_largest_subgraph()\n",
        "nx_util.plot_structure_model(sm, layout_method=\"random\", figsize=(6,6))"
      ]
    },
    {
      "cell_type": "code",
      "execution_count": null,
      "metadata": {
        "id": "i00zIh2E9XST"
      },
      "outputs": [],
      "source": []
    },
    {
      "cell_type": "code",
      "execution_count": null,
      "metadata": {
        "id": "z3BnPFL99XST"
      },
      "outputs": [],
      "source": []
    },
    {
      "cell_type": "markdown",
      "metadata": {
        "id": "BR-4oYj19XST"
      },
      "source": [
        "## DAGClassifier  with hidden_layer_units"
      ]
    },
    {
      "cell_type": "code",
      "execution_count": 21,
      "metadata": {
        "id": "by5VtCUM9XST"
      },
      "outputs": [],
      "source": [
        "dist_type_schema = {\n",
        "    \"x1\" : \"cont\",\n",
        "    \"x2\" : \"cont\",\n",
        "    \"c1\" : \"cont\",\n",
        "    \"c2\" : \"bin\",\n",
        "    \"y\" : \"bin\"\n",
        "}"
      ]
    },
    {
      "cell_type": "code",
      "execution_count": 22,
      "metadata": {
        "id": "kNiGZ4cd9XST"
      },
      "outputs": [],
      "source": [
        "clf = DAGClassifier(\n",
        "    threshold= 1.5, # この値以下の係数のedgeは削除\n",
        "    dist_type_schema = dist_type_schema,\n",
        "    alpha = 0.0, # L1\n",
        "    beta = 0.0,\n",
        "    hidden_layer_units =[5],\n",
        "    standardize=False,\n",
        "    enforce_dag=True,\n",
        "    tabu_edges=None,\n",
        "    tabu_parent_nodes=None,\n",
        "    tabu_child_nodes=None,\n",
        "    dependent_target = True # # yは親ノードにならない制約\n",
        ")"
      ]
    },
    {
      "cell_type": "code",
      "execution_count": 23,
      "metadata": {
        "id": "L11xgI6l9XST"
      },
      "outputs": [],
      "source": [
        "clf.fit(X, y)\n",
        "y_pred = clf.predict(X)\n",
        "y_pred_proba = clf.predict_proba(X)"
      ]
    },
    {
      "cell_type": "code",
      "execution_count": 24,
      "metadata": {
        "id": "9sVjbGph9XST",
        "outputId": "4dbc3b22-cb3c-4313-8939-deddf4d80f3e",
        "colab": {
          "base_uri": "https://localhost:8080/"
        }
      },
      "outputs": [
        {
          "output_type": "stream",
          "name": "stdout",
          "text": [
            "Pred Label [1 0 1 ... 0 1 1]\n",
            "Pred Proba  [[2.26497650e-06 9.99997735e-01]\n",
            " [8.06058079e-01 1.93941921e-01]\n",
            " [4.83405530e-01 5.16594470e-01]\n",
            " ...\n",
            " [9.94990386e-01 5.00961393e-03]\n",
            " [2.56293058e-01 7.43706942e-01]\n",
            " [5.23946881e-02 9.47605312e-01]]\n"
          ]
        }
      ],
      "source": [
        "print(\"Pred Label\" ,y_pred)\n",
        "print(\"Pred Proba \",y_pred_proba)"
      ]
    },
    {
      "cell_type": "code",
      "execution_count": 25,
      "metadata": {
        "id": "1c2IgfKu9XSU",
        "outputId": "1258ffb2-63a6-4b4a-adf2-d44755ce1547",
        "colab": {
          "base_uri": "https://localhost:8080/",
          "height": 357
        }
      },
      "outputs": [
        {
          "output_type": "display_data",
          "data": {
            "text/plain": [
              "<Figure size 432x432 with 1 Axes>"
            ],
            "image/png": "[encoded data removed]"
          },
          "metadata": {}
        }
      ],
      "source": [
        "# plot structure model\n",
        "sm = clf.graph_\n",
        "sm = sm.get_largest_subgraph()\n",
        "nx_util.plot_structure_model(sm, layout_method=\"random\", figsize=(6,6))"
      ]
    },
    {
      "cell_type": "code",
      "execution_count": 25,
      "metadata": {
        "id": "OxZFhVrT9XSU"
      },
      "outputs": [],
      "source": []
    },
    {
      "cell_type": "markdown",
      "metadata": {
        "id": "JM7QcTYA9XSU"
      },
      "source": [
        "# from_pandas_lasso, from_pandas(pytorch)実行"
      ]
    },
    {
      "cell_type": "markdown",
      "metadata": {
        "id": "-F2uJI4h9XSU"
      },
      "source": [
        "## L1 Penalty付きNO TEARSで因果グラフ推定"
      ]
    },
    {
      "cell_type": "code",
      "execution_count": 26,
      "metadata": {
        "id": "DxIgWArq9XSU"
      },
      "outputs": [],
      "source": [
        "# NOTEARSを実行, from_pandas_lassoでL1 penaltyをつけて推定することが可能\n",
        "sm = from_pandas_lasso( \n",
        "    struct_data,\n",
        "    beta = 0.15,  # L1 penalty\n",
        "    tabu_edges = [],\n",
        "    tabu_parent_nodes = None,\n",
        "    tabu_child_nodes = None,\n",
        ")\n",
        "sm.threshold_till_dag() # DAGになるように閾値をあげる\n",
        "#sm.remove_edges_below_threshold(0.2) # "
      ]
    },
    {
      "cell_type": "code",
      "execution_count": 27,
      "metadata": {
        "id": "yLTdyuzI9XSV",
        "outputId": "6e73a29b-bd94-44fc-c1a2-552e95af1b18",
        "colab": {
          "base_uri": "https://localhost:8080/",
          "height": 390
        }
      },
      "outputs": [
        {
          "output_type": "stream",
          "name": "stdout",
          "text": [
            "[ x1 ] ---> [ y ]\t\tWeight\t1.08730\n",
            "[ c1 ] ---> [ x1 ]\t\tWeight\t0.29201\n",
            "[ c1 ] ---> [ y ]\t\tWeight\t0.24506\n",
            "[ c2 ] ---> [ x1 ]\t\tWeight\t0.73727\n",
            "[ c2 ] ---> [ y ]\t\tWeight\t0.14375\n"
          ]
        },
        {
          "output_type": "display_data",
          "data": {
            "text/plain": [
              "<Figure size 360x360 with 1 Axes>"
            ],
            "image/png": "[encoded data removed]"
          },
          "metadata": {}
        }
      ],
      "source": [
        "# weights print\n",
        "nx_util.print_weights(sm)\n",
        "\n",
        "# plot sturecture model\n",
        "nx_util.plot_structure_model(sm, layout_method=\"shell\", layout_seed=1, figsize=(5,5))"
      ]
    },
    {
      "cell_type": "code",
      "execution_count": 27,
      "metadata": {
        "id": "TzNUaFVD9XSV"
      },
      "outputs": [],
      "source": []
    },
    {
      "cell_type": "markdown",
      "metadata": {
        "id": "LveFwZL39XSV"
      },
      "source": [
        "## pytorchでNO TEARSで因果グラフ推定"
      ]
    },
    {
      "cell_type": "code",
      "execution_count": 28,
      "metadata": {
        "id": "xa133rCF9XSV"
      },
      "outputs": [],
      "source": [
        "dist_type_schema = {\n",
        "    \"x1\" : \"cont\",\n",
        "    \"x2\" : \"cont\",\n",
        "    \"c1\" : \"cont\",\n",
        "    \"c2\" : \"bin\",\n",
        "    \"y\" : \"cont\"\n",
        "}"
      ]
    },
    {
      "cell_type": "code",
      "execution_count": 29,
      "metadata": {
        "id": "OTGk9T7g9XSV"
      },
      "outputs": [],
      "source": [
        "# data typeを加味してpytorchを用いて推定\n",
        "sm_pytorch = from_pandas_pytorch(\n",
        "    struct_data, \n",
        "    dist_type_schema = dist_type_schema, \n",
        "    lasso_beta = 0,  # L1\n",
        "    ridge_beta = 0 , # L2\n",
        "    w_threshold = 0.,  # edge_weight閾値\n",
        "    use_bias = False\n",
        ")\n",
        "sm_pytorch.threshold_till_dag()\n",
        "sm_pytorch.remove_edges_below_threshold(0.1) # "
      ]
    },
    {
      "cell_type": "code",
      "execution_count": 30,
      "metadata": {
        "id": "8wDRudjj9XSV",
        "outputId": "5ccabd10-388d-42fc-bf14-755c50f5ca98",
        "colab": {
          "base_uri": "https://localhost:8080/",
          "height": 390
        }
      },
      "outputs": [
        {
          "output_type": "stream",
          "name": "stdout",
          "text": [
            "[ x1 ] ---> [ y ]\t\tWeight\t1.02877\n",
            "[ c1 ] ---> [ x1 ]\t\tWeight\t0.86269\n",
            "[ c1 ] ---> [ y ]\t\tWeight\t0.95167\n",
            "[ c2 ] ---> [ x1 ]\t\tWeight\t1.02574\n",
            "[ c2 ] ---> [ y ]\t\tWeight\t0.51996\n"
          ]
        },
        {
          "output_type": "display_data",
          "data": {
            "text/plain": [
              "<Figure size 360x360 with 1 Axes>"
            ],
            "image/png": "[encoded data removed]"
          },
          "metadata": {}
        }
      ],
      "source": [
        "# weights print\n",
        "nx_util.print_weights(sm_pytorch)\n",
        "\n",
        "# plot sturecture model\n",
        "nx_util.plot_structure_model(sm_pytorch, layout_method=\"shell\", figsize=(5,5))"
      ]
    },
    {
      "cell_type": "code",
      "execution_count": 30,
      "metadata": {
        "id": "UXLRY-BD9XSW"
      },
      "outputs": [],
      "source": []
    },
    {
      "cell_type": "code",
      "execution_count": 30,
      "metadata": {
        "id": "CHLT61Vg9XSW"
      },
      "outputs": [],
      "source": []
    }
  ],
  "metadata": {
    "kernelspec": {
      "display_name": "Python 3",
      "language": "python",
      "name": "python3"
    },
    "language_info": {
      "codemirror_mode": {
        "name": "ipython",
        "version": 3
      },
      "file_extension": ".py",
      "mimetype": "text/x-python",
      "name": "python",
      "nbconvert_exporter": "python",
      "pygments_lexer": "ipython3",
      "version": "3.9.1"
    },
    "colab": {
      "provenance": []
    }
  },
  "nbformat": 4,
  "nbformat_minor": 0
}