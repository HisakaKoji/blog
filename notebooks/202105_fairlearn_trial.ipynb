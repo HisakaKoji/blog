{
 "cells": [
  {
   "cell_type": "markdown",
   "metadata": {},
   "source": [
    "# fairlearn Trial\n",
    "\n",
    "fairnessを実現するためのmethodを実行。\n",
    "\n",
    "- CorrelationRemover\n",
    "- GridSearch\n",
    "- ThresholdOptimizer"
   ]
  },
  {
   "cell_type": "code",
   "execution_count": 1,
   "metadata": {},
   "outputs": [],
   "source": [
    "import numpy as np\n",
    "import pandas as pd\n",
    "\n",
    "import matplotlib.pyplot as plt\n",
    "from sklearn.base import clone\n",
    "from lightgbm import LGBMClassifier\n",
    "%matplotlib inline"
   ]
  },
  {
   "cell_type": "code",
   "execution_count": 2,
   "metadata": {},
   "outputs": [],
   "source": [
    "# fairlearnで用いるmodel関連methodのimport\n",
    "from fairlearn.preprocessing import CorrelationRemover\n",
    "from fairlearn.postprocessing import ThresholdOptimizer\n",
    "from fairlearn.reductions import DemographicParity, EqualizedOdds, TruePositiveRateParity\n",
    "from fairlearn.reductions import GridSearch"
   ]
  },
  {
   "cell_type": "code",
   "execution_count": 3,
   "metadata": {},
   "outputs": [],
   "source": [
    "def logistic(x, a=1):\n",
    "    return 1/(1 + np.exp(-a*x))\n",
    "\n",
    "# サンプルデータ生成\n",
    "def make_sample_data(N=10000, p_s=0.1):\n",
    "    s = np.r_[np.zeros(int(N*p_s)) , np.ones(int(N*(1-p_s)))] # sensitive\n",
    "    np.random.seed(0)\n",
    "    x = np.random.normal(0, 1, size=N) - 0.2*s  # correlated with s\n",
    "\n",
    "    np.random.seed(1)\n",
    "    y = 0.3*x + 0.5*s + np.random.normal(0,1,size=N)  # outcome y is correlated with x and s\n",
    "    y -= np.mean(y)\n",
    "    y = np.array(logistic(y) > 0.5, dtype=int) # flg\n",
    "\n",
    "    np.random.seed(2)\n",
    "    train_idx = np.random.choice(N, size=N//2, replace=False) # random split\n",
    "    test_idx = np.array(list(set(np.arange(N)) - set(train_idx)))\n",
    "\n",
    "    return x[train_idx], y[train_idx], s[train_idx], x[test_idx], y[test_idx], s[test_idx]\n",
    "\n",
    "# 公平性の各種metricsをprint\n",
    "def print_result_summary(y_true, y_pred, s):\n",
    "    # Demographic Parityで用いる差\n",
    "    dp_ave =  y_pred.mean()\n",
    "    dp_s1 =  y_pred[s==1].mean()\n",
    "    dp_s0 = y_pred[s==0].mean()\n",
    "    dp_diff = np.abs(dp_s1 - dp_s0)\n",
    "    \n",
    "    # TruePositiveRate Parityで用いる差 (Equalized Opportunity)\n",
    "    tpr_ave = y_pred[y_true==1].mean()\n",
    "    tpr_s1 = y_pred[np.all([y_true==1, s==1],axis=0)].mean()\n",
    "    tpr_s0 = y_pred[np.all([y_true==1, s==0],axis=0)].mean()\n",
    "    tpr_diff = np.abs(tpr_s1 - tpr_s0)\n",
    "    \n",
    "    # FalsePositiveRate Parityで用いる差\n",
    "    fpr_ave = y_pred[y_true==0].mean()\n",
    "    fpr_s1 = y_pred[np.all([y_true==0, s==1],axis=0)].mean()\n",
    "    fpr_s0 = y_pred[np.all([y_true==0, s==0],axis=0)].mean()\n",
    "    fpr_diff = np.abs(fpr_s1 - fpr_s0)\n",
    "    \n",
    "    # print result\n",
    "    dp_text = f\"Demographic Parity:\\t\\t[mean] {dp_ave:.3f},\\t[s=1] {dp_s1:.3f},\\t[s=0] {dp_s0:.3f},\\t[abs_diff] {dp_diff:.3f}\"\n",
    "    tpr_text = f\"TruePositiveRate Parity:\\t[mean] {tpr_ave:.3f},\\t[s=1] {tpr_s1:.3f},\\t[s=0] {tpr_s0:.3f},\\t[abs_diff] {tpr_diff:.3f}\"\n",
    "    fpr_text = f\"FalsePositiveRate Parity:\\t[mean] {fpr_ave:.3f},\\t[s=1] {fpr_s1:.3f},\\t[s=0] {fpr_s0:.3f},\\t[abs_diff] {fpr_diff:.3f}\"\n",
    "    print(dp_text)\n",
    "    print(tpr_text)\n",
    "    print(fpr_text)"
   ]
  },
  {
   "cell_type": "code",
   "execution_count": null,
   "metadata": {},
   "outputs": [],
   "source": []
  },
  {
   "cell_type": "markdown",
   "metadata": {},
   "source": [
    "# Metricsの確認"
   ]
  },
  {
   "cell_type": "code",
   "execution_count": 4,
   "metadata": {},
   "outputs": [],
   "source": [
    "# Metrics\n",
    "from fairlearn.metrics import (\n",
    "    demographic_parity_difference,\n",
    "    true_positive_rate_difference, \n",
    "    false_positive_rate_difference,\n",
    "    equalized_odds_difference)"
   ]
  },
  {
   "cell_type": "code",
   "execution_count": 5,
   "metadata": {},
   "outputs": [],
   "source": [
    "# テストデータ\n",
    "y_true = np.array([0,0,1,1,1,0,0])\n",
    "y_pred = np.array([0,0,0,1,1,1,1])\n",
    "s = np.array([1,0,1,0,1,0,0])"
   ]
  },
  {
   "cell_type": "code",
   "execution_count": 6,
   "metadata": {},
   "outputs": [
    {
     "name": "stdout",
     "output_type": "stream",
     "text": [
      "Demographic Parity:\t\t[mean] 0.571,\t[s=1] 0.333,\t[s=0] 0.750,\t[abs_diff] 0.417\n",
      "TruePositiveRate Parity:\t[mean] 0.667,\t[s=1] 0.500,\t[s=0] 1.000,\t[abs_diff] 0.500\n",
      "FalsePositiveRate Parity:\t[mean] 0.500,\t[s=1] 0.000,\t[s=0] 0.667,\t[abs_diff] 0.667\n"
     ]
    }
   ],
   "source": [
    "# 自作\n",
    "print_result_summary(y_true, y_pred, s)"
   ]
  },
  {
   "cell_type": "code",
   "execution_count": 7,
   "metadata": {},
   "outputs": [
    {
     "name": "stdout",
     "output_type": "stream",
     "text": [
      "Demographic Parity Diff :\t\t 0.417\n",
      "TruePositiveRate Parity Diff :\t 0.500\n",
      "FalsePositiveRate Parity Diff :\t 0.667\n",
      "EqualizedOdds Parity Diff :\t\t 0.667\n"
     ]
    }
   ],
   "source": [
    "# fairlearnでのmetrics実装, 自作funcとの[abs_diff]との一致が確認できる\n",
    "print(\"Demographic Parity Diff :\\t\\t %.3f\"% demographic_parity_difference(y_true=y_true, y_pred=y_pred, sensitive_features=s))\n",
    "print(\"TruePositiveRate Parity Diff :\\t %.3f\"% true_positive_rate_difference(y_true=y_true, y_pred=y_pred, sensitive_features=s))\n",
    "print(\"FalsePositiveRate Parity Diff :\\t %.3f\"% false_positive_rate_difference(y_true=y_true, y_pred=y_pred, sensitive_features=s))\n",
    "\n",
    "# TruePositiveRate DiffとFalsePositiveRate Diffのうち大きい方の値が入る\n",
    "print(\"EqualizedOdds Parity Diff :\\t\\t %.3f\"% equalized_odds_difference(y_true=y_true, y_pred=y_pred, sensitive_features=s))"
   ]
  },
  {
   "cell_type": "code",
   "execution_count": null,
   "metadata": {},
   "outputs": [],
   "source": []
  },
  {
   "cell_type": "markdown",
   "metadata": {},
   "source": [
    "# データ生成"
   ]
  },
  {
   "cell_type": "code",
   "execution_count": 8,
   "metadata": {},
   "outputs": [],
   "source": [
    "# sample data\n",
    "x_train, y_train, s_train, x_test, y_test, s_test = make_sample_data(N=10000, p_s=0.1)\n",
    "X_train = np.c_[x_train, s_train]\n",
    "X_test = np.c_[x_test, s_test]"
   ]
  },
  {
   "cell_type": "code",
   "execution_count": null,
   "metadata": {},
   "outputs": [],
   "source": []
  },
  {
   "cell_type": "markdown",
   "metadata": {},
   "source": [
    "# ベースラインモデル, そのままモデルfit"
   ]
  },
  {
   "cell_type": "markdown",
   "metadata": {},
   "source": [
    "### センシティブ変数も入力"
   ]
  },
  {
   "cell_type": "code",
   "execution_count": 9,
   "metadata": {},
   "outputs": [],
   "source": [
    "# model fit\n",
    "baseline_model = LGBMClassifier(random_state=1)\n",
    "baseline_model.fit(X_train, y_train)\n",
    "\n",
    "# predict\n",
    "y_train_pred_baseline = baseline_model.predict(X_train)\n",
    "y_test_pred_baseline = baseline_model.predict(X_test)"
   ]
  },
  {
   "cell_type": "code",
   "execution_count": 10,
   "metadata": {},
   "outputs": [
    {
     "name": "stdout",
     "output_type": "stream",
     "text": [
      "Train\n",
      "Demographic Parity:\t\t[mean] 0.548,\t[s=1] 0.575,\t[s=0] 0.304,\t[abs_diff] 0.271\n",
      "TruePositiveRate Parity:\t[mean] 0.681,\t[s=1] 0.689,\t[s=0] 0.580,\t[abs_diff] 0.109\n",
      "FalsePositiveRate Parity:\t[mean] 0.411,\t[s=1] 0.451,\t[s=0] 0.130,\t[abs_diff] 0.321\n",
      "\n",
      "Test\n",
      "Demographic Parity:\t\t[mean] 0.529,\t[s=1] 0.558,\t[s=0] 0.270,\t[abs_diff] 0.288\n",
      "TruePositiveRate Parity:\t[mean] 0.607,\t[s=1] 0.624,\t[s=0] 0.372,\t[abs_diff] 0.252\n",
      "FalsePositiveRate Parity:\t[mean] 0.451,\t[s=1] 0.486,\t[s=0] 0.216,\t[abs_diff] 0.270\n"
     ]
    }
   ],
   "source": [
    "print(\"Train\")\n",
    "print_result_summary(y_true=y_train, y_pred=y_train_pred_baseline, s=s_train)\n",
    "print(\"\\nTest\")\n",
    "print_result_summary(y_true=y_test, y_pred=y_test_pred_baseline, s=s_test)"
   ]
  },
  {
   "cell_type": "code",
   "execution_count": null,
   "metadata": {},
   "outputs": [],
   "source": []
  },
  {
   "cell_type": "markdown",
   "metadata": {},
   "source": [
    "### センシティブ変数をDrop"
   ]
  },
  {
   "cell_type": "code",
   "execution_count": 11,
   "metadata": {},
   "outputs": [
    {
     "name": "stderr",
     "output_type": "stream",
     "text": [
      "/usr/local/lib/python3.9/site-packages/lightgbm/basic.py:306: UserWarning: Usage of np.ndarray subset (sliced data) is not recommended due to it will double the peak memory cost in LightGBM.\n",
      "  warnings.warn(\"Usage of np.ndarray subset (sliced data) is not recommended \"\n",
      "/usr/local/lib/python3.9/site-packages/lightgbm/basic.py:306: UserWarning: Usage of np.ndarray subset (sliced data) is not recommended due to it will double the peak memory cost in LightGBM.\n",
      "  warnings.warn(\"Usage of np.ndarray subset (sliced data) is not recommended \"\n",
      "/usr/local/lib/python3.9/site-packages/lightgbm/basic.py:306: UserWarning: Usage of np.ndarray subset (sliced data) is not recommended due to it will double the peak memory cost in LightGBM.\n",
      "  warnings.warn(\"Usage of np.ndarray subset (sliced data) is not recommended \"\n"
     ]
    }
   ],
   "source": [
    "# model fit\n",
    "baseline_model_wos = LGBMClassifier(random_state=1)\n",
    "baseline_model_wos.fit(X_train[:,0].reshape(-1,1), y_train)\n",
    "\n",
    "# predict\n",
    "y_train_pred_baseline_wos = baseline_model_wos.predict(X_train[:,0].reshape(-1,1))\n",
    "y_test_pred_baseline_wos = baseline_model_wos.predict(X_test[:,0].reshape(-1,1))"
   ]
  },
  {
   "cell_type": "code",
   "execution_count": 12,
   "metadata": {},
   "outputs": [
    {
     "name": "stdout",
     "output_type": "stream",
     "text": [
      "Train\n",
      "Demographic Parity:\t\t[mean] 0.563,\t[s=1] 0.558,\t[s=0] 0.608,\t[abs_diff] 0.050\n",
      "TruePositiveRate Parity:\t[mean] 0.682,\t[s=1] 0.671,\t[s=0] 0.824,\t[abs_diff] 0.153\n",
      "FalsePositiveRate Parity:\t[mean] 0.440,\t[s=1] 0.435,\t[s=0] 0.472,\t[abs_diff] 0.037\n",
      "\n",
      "Test\n",
      "Demographic Parity:\t\t[mean] 0.543,\t[s=1] 0.539,\t[s=0] 0.578,\t[abs_diff] 0.039\n",
      "TruePositiveRate Parity:\t[mean] 0.608,\t[s=1] 0.604,\t[s=0] 0.669,\t[abs_diff] 0.065\n",
      "FalsePositiveRate Parity:\t[mean] 0.476,\t[s=1] 0.468,\t[s=0] 0.530,\t[abs_diff] 0.062\n"
     ]
    }
   ],
   "source": [
    "print(\"Train\")\n",
    "print_result_summary(y_true=y_train, y_pred=y_train_pred_baseline_wos, s=s_train)\n",
    "print(\"\\nTest\")\n",
    "print_result_summary(y_true=y_test, y_pred=y_test_pred_baseline_wos, s=s_test)"
   ]
  },
  {
   "cell_type": "code",
   "execution_count": null,
   "metadata": {},
   "outputs": [],
   "source": []
  },
  {
   "cell_type": "markdown",
   "metadata": {},
   "source": [
    "# 公平性を加味したモデルfit"
   ]
  },
  {
   "cell_type": "markdown",
   "metadata": {},
   "source": [
    "## [Pre-process] CorrelationRemover"
   ]
  },
  {
   "cell_type": "code",
   "execution_count": 13,
   "metadata": {},
   "outputs": [],
   "source": [
    "# 相関を除去\n",
    "corr_remover = CorrelationRemover(sensitive_feature_ids=[1]) # X_trainのうち2列目がsに該当\n",
    "X_train_rmcorr = corr_remover.fit_transform(X_train)\n",
    "X_test_rmcorr = corr_remover.transform(X_test)"
   ]
  },
  {
   "cell_type": "code",
   "execution_count": 14,
   "metadata": {},
   "outputs": [],
   "source": [
    "# model fit\n",
    "clf = LGBMClassifier()\n",
    "clf.fit(X_train_rmcorr, y_train)\n",
    "\n",
    "# predict\n",
    "y_train_pred_rmcorr = clf.predict(X_train_rmcorr)\n",
    "y_test_pred_rmcorr = clf.predict(X_test_rmcorr)"
   ]
  },
  {
   "cell_type": "code",
   "execution_count": 15,
   "metadata": {},
   "outputs": [
    {
     "name": "stdout",
     "output_type": "stream",
     "text": [
      "Train\n",
      "Demographic Parity:\t\t[mean] 0.539,\t[s=1] 0.539,\t[s=0] 0.540,\t[abs_diff] 0.001\n",
      "TruePositiveRate Parity:\t[mean] 0.661,\t[s=1] 0.655,\t[s=0] 0.736,\t[abs_diff] 0.080\n",
      "FalsePositiveRate Parity:\t[mean] 0.413,\t[s=1] 0.412,\t[s=0] 0.417,\t[abs_diff] 0.005\n",
      "\n",
      "Test\n",
      "Demographic Parity:\t\t[mean] 0.526,\t[s=1] 0.524,\t[s=0] 0.544,\t[abs_diff] 0.020\n",
      "TruePositiveRate Parity:\t[mean] 0.594,\t[s=1] 0.588,\t[s=0] 0.674,\t[abs_diff] 0.087\n",
      "FalsePositiveRate Parity:\t[mean] 0.458,\t[s=1] 0.456,\t[s=0] 0.476,\t[abs_diff] 0.020\n"
     ]
    }
   ],
   "source": [
    "print(\"Train\")\n",
    "print_result_summary(y_true=y_train, y_pred=y_train_pred_rmcorr, s=s_train)\n",
    "print(\"\\nTest\")\n",
    "print_result_summary(y_true=y_test, y_pred=y_test_pred_rmcorr, s=s_test)"
   ]
  },
  {
   "cell_type": "code",
   "execution_count": null,
   "metadata": {},
   "outputs": [],
   "source": []
  },
  {
   "cell_type": "markdown",
   "metadata": {},
   "source": [
    "## [In-process] Reduction Method"
   ]
  },
  {
   "cell_type": "markdown",
   "metadata": {},
   "source": [
    "### Demographic Parity"
   ]
  },
  {
   "cell_type": "code",
   "execution_count": 16,
   "metadata": {},
   "outputs": [],
   "source": [
    "# model fit\n",
    "sweep = GridSearch(\n",
    "                   estimator=LGBMClassifier(random_state=1), # estimator needs `sample_weight` at fit \n",
    "                   constraints=DemographicParity(),  # EqualizedOdds, TruePositiveRateParityなども使用可\n",
    "                   grid_size=50, \n",
    "                   grid_limit=1\n",
    ")\n",
    "sweep.fit(X_train, y_train, sensitive_features=s_train)\n",
    "\n",
    "# predict\n",
    "y_train_pred_indp = sweep.predict(X_train) # 最もDemographicParityが小さいものが選ばれる\n",
    "y_test_pred_indp = sweep.predict(X_test)"
   ]
  },
  {
   "cell_type": "code",
   "execution_count": 17,
   "metadata": {},
   "outputs": [
    {
     "name": "stdout",
     "output_type": "stream",
     "text": [
      "Train\n",
      "Demographic Parity:\t\t[mean] 0.544,\t[s=1] 0.544,\t[s=0] 0.536,\t[abs_diff] 0.008\n",
      "TruePositiveRate Parity:\t[mean] 0.669,\t[s=1] 0.660,\t[s=0] 0.788,\t[abs_diff] 0.128\n",
      "FalsePositiveRate Parity:\t[mean] 0.414,\t[s=1] 0.420,\t[s=0] 0.378,\t[abs_diff] 0.042\n",
      "\n",
      "Test\n",
      "Demographic Parity:\t\t[mean] 0.524,\t[s=1] 0.524,\t[s=0] 0.520,\t[abs_diff] 0.004\n",
      "TruePositiveRate Parity:\t[mean] 0.591,\t[s=1] 0.589,\t[s=0] 0.616,\t[abs_diff] 0.027\n",
      "FalsePositiveRate Parity:\t[mean] 0.456,\t[s=1] 0.454,\t[s=0] 0.470,\t[abs_diff] 0.016\n"
     ]
    }
   ],
   "source": [
    "print(\"Train\")\n",
    "print_result_summary(y_true=y_train, y_pred=y_train_pred_indp, s=s_train)\n",
    "print(\"\\nTest\")\n",
    "print_result_summary(y_true=y_test, y_pred=y_test_pred_indp, s=s_test)"
   ]
  },
  {
   "cell_type": "code",
   "execution_count": 18,
   "metadata": {},
   "outputs": [],
   "source": [
    "# 各モデルの予測結果metricsを取得\n",
    "sweep_preds = [predictor.predict(X_train) for predictor in sweep.predictors_] # 各predictorの予測値を取得\n",
    "dp_diff_list = [\n",
    "    demographic_parity_difference(y_train, preds, sensitive_features=s_train)\n",
    "    for preds in sweep_preds\n",
    "]"
   ]
  },
  {
   "cell_type": "code",
   "execution_count": 19,
   "metadata": {},
   "outputs": [
    {
     "data": {
      "text/plain": [
       "array([0.00844444, 0.01511111, 0.038     , 0.05511111, 0.05911111])"
      ]
     },
     "execution_count": 19,
     "metadata": {},
     "output_type": "execute_result"
    }
   ],
   "source": [
    "np.sort(dp_diff_list)[:5] #top-5のdemographic_parity_diffを確認, sweep.predictによる結果と同一であることを確認できる"
   ]
  },
  {
   "cell_type": "code",
   "execution_count": null,
   "metadata": {},
   "outputs": [],
   "source": []
  },
  {
   "cell_type": "markdown",
   "metadata": {},
   "source": [
    "### Equalized Odds"
   ]
  },
  {
   "cell_type": "code",
   "execution_count": 20,
   "metadata": {},
   "outputs": [],
   "source": [
    "# model fit\n",
    "sweep = GridSearch(\n",
    "                   estimator=LGBMClassifier(random_state=1), \n",
    "                   constraints=EqualizedOdds(),  # EqualizedOdds, TruePositiveRateParityなども使用可\n",
    "                   grid_size=50, \n",
    "                   grid_limit=1\n",
    ")\n",
    "sweep.fit(X_train, y_train, sensitive_features=s_train)\n",
    "\n",
    "# predict\n",
    "y_train_pred_ineo = sweep.predict(X_train) # 最もDemographicParityが小さいものが選ばれる\n",
    "y_test_pred_ineo = sweep.predict(X_test)"
   ]
  },
  {
   "cell_type": "code",
   "execution_count": 21,
   "metadata": {},
   "outputs": [
    {
     "name": "stdout",
     "output_type": "stream",
     "text": [
      "Train\n",
      "Demographic Parity:\t\t[mean] 0.555,\t[s=1] 0.560,\t[s=0] 0.504,\t[abs_diff] 0.056\n",
      "TruePositiveRate Parity:\t[mean] 0.682,\t[s=1] 0.675,\t[s=0] 0.767,\t[abs_diff] 0.091\n",
      "FalsePositiveRate Parity:\t[mean] 0.423,\t[s=1] 0.435,\t[s=0] 0.339,\t[abs_diff] 0.097\n",
      "\n",
      "Test\n",
      "Demographic Parity:\t\t[mean] 0.538,\t[s=1] 0.545,\t[s=0] 0.478,\t[abs_diff] 0.067\n",
      "TruePositiveRate Parity:\t[mean] 0.606,\t[s=1] 0.609,\t[s=0] 0.576,\t[abs_diff] 0.033\n",
      "FalsePositiveRate Parity:\t[mean] 0.469,\t[s=1] 0.475,\t[s=0] 0.427,\t[abs_diff] 0.048\n"
     ]
    }
   ],
   "source": [
    "print(\"Train\")\n",
    "print_result_summary(y_true=y_train, y_pred=y_train_pred_ineo, s=s_train)\n",
    "print(\"\\nTest\")\n",
    "print_result_summary(y_true=y_test, y_pred=y_test_pred_ineo, s=s_test)"
   ]
  },
  {
   "cell_type": "code",
   "execution_count": null,
   "metadata": {},
   "outputs": [],
   "source": []
  },
  {
   "cell_type": "markdown",
   "metadata": {},
   "source": [
    "## [Post-process] "
   ]
  },
  {
   "cell_type": "markdown",
   "metadata": {},
   "source": [
    "### Demographic Parity"
   ]
  },
  {
   "cell_type": "code",
   "execution_count": 22,
   "metadata": {},
   "outputs": [],
   "source": [
    "# set \n",
    "optimizer = ThresholdOptimizer(\n",
    "    estimator=baseline_model, \n",
    "    constraints=\"demographic_parity\", # 他に’{false,true}_{positive,negative}_rate_parity’’equalized_odds’ が使用可能\n",
    "    prefit=True # 学習済みモデルを渡している場合 True, prefit=Falseでestimator=LGBMClassifier(random_state=1)でも同じ結果\n",
    ")\n",
    "\n",
    "# fit optimizer\n",
    "optimizer.fit(X=X_train,y=y_train, sensitive_features=s_train)\n",
    "y_test_pred_postdp = optimizer.predict(X_test, sensitive_features=s_test, random_state=20) #乱数固定\n",
    "y_train_pred_postdp = optimizer.predict(X_train, sensitive_features=s_train, random_state=100) # 乱数固定"
   ]
  },
  {
   "cell_type": "code",
   "execution_count": 23,
   "metadata": {},
   "outputs": [
    {
     "name": "stdout",
     "output_type": "stream",
     "text": [
      "Train\n",
      "Demographic Parity:\t\t[mean] 0.578,\t[s=1] 0.575,\t[s=0] 0.600,\t[abs_diff] 0.025\n",
      "TruePositiveRate Parity:\t[mean] 0.693,\t[s=1] 0.689,\t[s=0] 0.741,\t[abs_diff] 0.051\n",
      "FalsePositiveRate Parity:\t[mean] 0.459,\t[s=1] 0.451,\t[s=0] 0.511,\t[abs_diff] 0.060\n",
      "\n",
      "Test\n",
      "Demographic Parity:\t\t[mean] 0.557,\t[s=1] 0.558,\t[s=0] 0.554,\t[abs_diff] 0.004\n",
      "TruePositiveRate Parity:\t[mean] 0.625,\t[s=1] 0.624,\t[s=0] 0.640,\t[abs_diff] 0.015\n",
      "FalsePositiveRate Parity:\t[mean] 0.489,\t[s=1] 0.486,\t[s=0] 0.509,\t[abs_diff] 0.023\n"
     ]
    }
   ],
   "source": [
    "print(\"Train\")\n",
    "print_result_summary(y_true=y_train, y_pred=y_train_pred_postdp, s=s_train)\n",
    "print(\"\\nTest\")\n",
    "print_result_summary(y_true=y_test, y_pred=y_test_pred_postdp, s=s_test)"
   ]
  },
  {
   "cell_type": "code",
   "execution_count": null,
   "metadata": {},
   "outputs": [],
   "source": []
  },
  {
   "cell_type": "markdown",
   "metadata": {},
   "source": [
    "### Equalized Odds"
   ]
  },
  {
   "cell_type": "code",
   "execution_count": 24,
   "metadata": {},
   "outputs": [
    {
     "name": "stderr",
     "output_type": "stream",
     "text": [
      "/usr/local/lib/python3.9/site-packages/sklearn/utils/validation.py:72: DataConversionWarning: A column-vector y was passed when a 1d array was expected. Please change the shape of y to (n_samples, ), for example using ravel().\n",
      "  return f(**kwargs)\n"
     ]
    }
   ],
   "source": [
    "optimizer = ThresholdOptimizer(\n",
    "    estimator=clone(baseline_model), \n",
    "    constraints=\"equalized_odds\", \n",
    "    prefit=False \n",
    ")\n",
    "optimizer.fit(X=X_train,y=y_train.reshape(-1,1), sensitive_features=s_train)\n",
    "y_test_pred_posteo = optimizer.predict(X_test, sensitive_features=s_test, random_state=20)\n",
    "y_train_pred_posteo = optimizer.predict(X_train, sensitive_features=s_train, random_state=20)"
   ]
  },
  {
   "cell_type": "code",
   "execution_count": 25,
   "metadata": {},
   "outputs": [
    {
     "name": "stdout",
     "output_type": "stream",
     "text": [
      "Train\n",
      "Demographic Parity:\t\t[mean] 0.570,\t[s=1] 0.575,\t[s=0] 0.530,\t[abs_diff] 0.045\n",
      "TruePositiveRate Parity:\t[mean] 0.689,\t[s=1] 0.689,\t[s=0] 0.684,\t[abs_diff] 0.005\n",
      "FalsePositiveRate Parity:\t[mean] 0.449,\t[s=1] 0.451,\t[s=0] 0.433,\t[abs_diff] 0.018\n",
      "\n",
      "Test\n",
      "Demographic Parity:\t\t[mean] 0.555,\t[s=1] 0.558,\t[s=0] 0.528,\t[abs_diff] 0.030\n",
      "TruePositiveRate Parity:\t[mean] 0.623,\t[s=1] 0.624,\t[s=0] 0.610,\t[abs_diff] 0.014\n",
      "FalsePositiveRate Parity:\t[mean] 0.486,\t[s=1] 0.486,\t[s=0] 0.485,\t[abs_diff] 0.001\n"
     ]
    }
   ],
   "source": [
    "print(\"Train\")\n",
    "print_result_summary(y_true=y_train, y_pred=y_train_pred_posteo, s=s_train)\n",
    "print(\"\\nTest\")\n",
    "print_result_summary(y_true=y_test, y_pred=y_test_pred_posteo, s=s_test)"
   ]
  },
  {
   "cell_type": "code",
   "execution_count": null,
   "metadata": {},
   "outputs": [],
   "source": []
  },
  {
   "cell_type": "code",
   "execution_count": null,
   "metadata": {},
   "outputs": [],
   "source": []
  }
 ],
 "metadata": {
  "kernelspec": {
   "display_name": "Python 3",
   "language": "python",
   "name": "python3"
  },
  "language_info": {
   "codemirror_mode": {
    "name": "ipython",
    "version": 3
   },
   "file_extension": ".py",
   "mimetype": "text/x-python",
   "name": "python",
   "nbconvert_exporter": "python",
   "pygments_lexer": "ipython3",
   "version": "3.9.1"
  }
 },
 "nbformat": 4,
 "nbformat_minor": 4
}
