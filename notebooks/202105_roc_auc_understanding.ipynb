{
 "cells": [
  {
   "cell_type": "code",
   "execution_count": 1,
   "metadata": {},
   "outputs": [],
   "source": [
    "import numpy as np\n",
    "from tqdm import tqdm\n",
    "from sklearn.metrics import roc_auc_score\n",
    "from numpy.testing import assert_almost_equal\n",
    "\n",
    "from myfunc.my_roc_auc import my_roc_auc"
   ]
  },
  {
   "cell_type": "markdown",
   "metadata": {},
   "source": [
    "# Scikit-learnと自作のAUC比較"
   ]
  },
  {
   "cell_type": "markdown",
   "metadata": {},
   "source": [
    "## サンプルデータで一致確認"
   ]
  },
  {
   "cell_type": "code",
   "execution_count": 2,
   "metadata": {},
   "outputs": [],
   "source": [
    "# 実装がsklearnのAUCと一致するかテスト\n",
    "\n",
    "n_samples = 1000\n",
    "np.random.seed(n_samples)\n",
    "\n",
    "# generate sample data\n",
    "true_label = np.random.choice([0,1], size=n_samples)\n",
    "pred_proba = np.random.choice(np.linspace(0, 1, 100), size=n_samples)"
   ]
  },
  {
   "cell_type": "code",
   "execution_count": 3,
   "metadata": {},
   "outputs": [
    {
     "name": "stdout",
     "output_type": "stream",
     "text": [
      "ROCAUC\n",
      "\tsklearn:\t0.523924202292845\n",
      "\tmine:\t0.523924202292845\n"
     ]
    }
   ],
   "source": [
    "# calc ROCAUC\n",
    "roc_auc_sklearn = roc_auc_score(true_label, pred_proba)\n",
    "roc_auc_mine = my_roc_auc(true_label, pred_proba)\n",
    "\n",
    "print(\"ROCAUC\\n\\tsklearn:\\t%.15f\\n\\tmine:\\t%.15f\"%(roc_auc_sklearn, roc_auc_mine))\n",
    "assert_almost_equal(roc_auc_sklearn, roc_auc_mine, decimal=10)"
   ]
  },
  {
   "cell_type": "code",
   "execution_count": null,
   "metadata": {},
   "outputs": [],
   "source": []
  },
  {
   "cell_type": "markdown",
   "metadata": {},
   "source": [
    "## assert_almost_equalの挙動確認"
   ]
  },
  {
   "cell_type": "code",
   "execution_count": 4,
   "metadata": {},
   "outputs": [
    {
     "name": "stdout",
     "output_type": "stream",
     "text": [
      "AssertionError Raised\n",
      "ROCAUC\n",
      "\tsklearn:\t0.5239242022928446\n",
      "\tmine:\t0.5239242022928445\n"
     ]
    }
   ],
   "source": [
    "# 指定したprediction (decimal)での一致を確認できない場合Errorがでる\n",
    "\n",
    "try:\n",
    "    assert_almost_equal(roc_auc_sklearn, roc_auc_mine, decimal=17) # 小数点 16位までの一致を確認\n",
    "except AssertionError:\n",
    "    # raise\n",
    "    print(\"AssertionError Raised\")\n",
    "    print(\"ROCAUC\\n\\tsklearn:\\t%.16f\\n\\tmine:\\t%.16f\"%(roc_auc_sklearn, roc_auc_mine))"
   ]
  },
  {
   "cell_type": "code",
   "execution_count": null,
   "metadata": {},
   "outputs": [],
   "source": []
  },
  {
   "cell_type": "markdown",
   "metadata": {},
   "source": [
    "## 複数のデータに対しての一致を確認"
   ]
  },
  {
   "cell_type": "code",
   "execution_count": 5,
   "metadata": {},
   "outputs": [
    {
     "name": "stderr",
     "output_type": "stream",
     "text": [
      "100%|██████████| 1000/1000 [00:12<00:00, 79.22it/s]\n"
     ]
    }
   ],
   "source": [
    "# 実装がsklearnのAUCと一致するかテスト, エラーがでなければ一致している\n",
    "\n",
    "n_trials = 1000\n",
    "n_samples = 200\n",
    "\n",
    "for n in tqdm(range(n_trials)):\n",
    "    np.random.seed(n)\n",
    "    # generate sample data\n",
    "    true_label = np.random.choice([0,1], size=n_samples)\n",
    "    pred_proba = np.random.choice(np.linspace(0, 1, 100), size=n_samples)\n",
    "    \n",
    "    # calc ROCAUC\n",
    "    roc_auc_sklearn = roc_auc_score(true_label, pred_proba)\n",
    "    roc_auc_mine = my_roc_auc(true_label, pred_proba)\n",
    "\n",
    "    # check almost equal\n",
    "    assert_almost_equal(roc_auc_sklearn, roc_auc_mine, decimal=10)"
   ]
  },
  {
   "cell_type": "code",
   "execution_count": null,
   "metadata": {},
   "outputs": [],
   "source": []
  },
  {
   "cell_type": "markdown",
   "metadata": {},
   "source": [
    "# 不均衡データにおいてのROC AUCの挙動確認"
   ]
  },
  {
   "cell_type": "markdown",
   "metadata": {},
   "source": [
    "## すべて同じスコアが入る場合"
   ]
  },
  {
   "cell_type": "code",
   "execution_count": 6,
   "metadata": {},
   "outputs": [],
   "source": [
    "# example 1\n",
    "y_true_label = np.array([0.0, 0.0, 0.0, 0.0, 0.0, 0.0, 0.0, 0.0, 1.0, 1.0])\n",
    "y_pred_proba = np.array([0.5] * 10)"
   ]
  },
  {
   "cell_type": "code",
   "execution_count": 7,
   "metadata": {},
   "outputs": [
    {
     "name": "stdout",
     "output_type": "stream",
     "text": [
      "ROCAUC\n",
      "\tsklearn:\t0.50000\n",
      "\tmine:\t0.50000\n"
     ]
    }
   ],
   "source": [
    "# calc ROCAUC\n",
    "roc_auc_sklearn = roc_auc_score(y_true_label, y_pred_proba)\n",
    "roc_auc_mine = my_roc_auc(y_true_label, y_pred_proba)\n",
    "\n",
    "print(\"ROCAUC\\n\\tsklearn:\\t%.5f\\n\\tmine:\\t%.5f\"%(roc_auc_sklearn, roc_auc_mine))"
   ]
  },
  {
   "cell_type": "code",
   "execution_count": null,
   "metadata": {},
   "outputs": [],
   "source": []
  },
  {
   "cell_type": "markdown",
   "metadata": {},
   "source": [
    "## 少数クラスのサンプルを1サンプル分類できるようになった場合の精度"
   ]
  },
  {
   "cell_type": "code",
   "execution_count": 8,
   "metadata": {},
   "outputs": [],
   "source": [
    "# example 2\n",
    "y_true_label =   np.array([0.0, 0.0, 0.0, 0.0, 0.0, 0.0, 0.0, 0.0, 1.0, 1.0])\n",
    "y_pred_proba = np.array([0.5, 0.5, 0.5, 0.5, 0.5, 0.5, 0.5, 0.5, 0.5, 1.0])"
   ]
  },
  {
   "cell_type": "code",
   "execution_count": 9,
   "metadata": {},
   "outputs": [
    {
     "name": "stdout",
     "output_type": "stream",
     "text": [
      "ROCAUC\n",
      "\tsklearn:\t0.75000\n",
      "\tmine:\t0.75000\n"
     ]
    }
   ],
   "source": [
    "# calc ROCAUC\n",
    "roc_auc_sklearn = roc_auc_score(y_true_label, y_pred_proba)\n",
    "roc_auc_mine = my_roc_auc(y_true_label, y_pred_proba)\n",
    "\n",
    "print(\"ROCAUC\\n\\tsklearn:\\t%.5f\\n\\tmine:\\t%.5f\"%(roc_auc_sklearn, roc_auc_mine))"
   ]
  },
  {
   "cell_type": "code",
   "execution_count": null,
   "metadata": {},
   "outputs": [],
   "source": []
  },
  {
   "cell_type": "markdown",
   "metadata": {},
   "source": [
    "## 多数クラスのサンプルを1サンプル分類できるようになった場合の精度"
   ]
  },
  {
   "cell_type": "code",
   "execution_count": 10,
   "metadata": {},
   "outputs": [],
   "source": [
    "# example 3\n",
    "y_true_label =   np.array([0.0, 0.0, 0.0, 0.0, 0.0, 0.0, 0.0, 0.0, 1.0, 1.0])\n",
    "y_pred_proba = np.array([0.5, 0.5, 0.5, 0.5, 0.5, 0.5, 0.5, 0.0, 0.5, 0.5])"
   ]
  },
  {
   "cell_type": "code",
   "execution_count": 11,
   "metadata": {},
   "outputs": [
    {
     "name": "stdout",
     "output_type": "stream",
     "text": [
      "ROCAUC\n",
      "\tsklearn:\t0.56250\n",
      "\tmine:\t0.56250\n"
     ]
    }
   ],
   "source": [
    "# calc ROCAUC\n",
    "roc_auc_sklearn = roc_auc_score(y_true_label, y_pred_proba)\n",
    "roc_auc_mine = my_roc_auc(y_true_label, y_pred_proba)\n",
    "\n",
    "print(\"ROCAUC\\n\\tsklearn:\\t%.5f\\n\\tmine:\\t%.5f\"%(roc_auc_sklearn, roc_auc_mine))"
   ]
  },
  {
   "cell_type": "code",
   "execution_count": null,
   "metadata": {},
   "outputs": [],
   "source": []
  },
  {
   "cell_type": "markdown",
   "metadata": {},
   "source": [
    "## ROCAUC上昇幅の比率を見る"
   ]
  },
  {
   "cell_type": "code",
   "execution_count": 12,
   "metadata": {},
   "outputs": [
    {
     "data": {
      "text/plain": [
       "4.0"
      ]
     },
     "execution_count": 12,
     "metadata": {},
     "output_type": "execute_result"
    }
   ],
   "source": [
    "# 1サンプルを分類成功することによるROC AUC上昇幅の比率を確認 \n",
    "# (少数クラスの上昇幅) / (多数クラスの上昇幅)\n",
    "\n",
    "(0.75000 - 0.5) / (0.56250 - 0.5)"
   ]
  },
  {
   "cell_type": "code",
   "execution_count": 13,
   "metadata": {},
   "outputs": [
    {
     "name": "stdout",
     "output_type": "stream",
     "text": [
      "少数クラスの比率 :\t\t\t 0.250\n",
      "少数クラスの比率の逆数 :\t 4.000\n"
     ]
    }
   ],
   "source": [
    "# 不均衡データの比率を計算する\n",
    "n_major = np.sum(y_true_label == 0)\n",
    "n_minor = np.sum(y_true_label == 1)\n",
    "minor_ratio = n_minor / n_major\n",
    "print(\"少数クラスの比率 :\\t\\t\\t %.3f\"%minor_ratio)\n",
    "print(\"少数クラスの比率の逆数 :\\t %.3f\"%(1/minor_ratio))"
   ]
  },
  {
   "cell_type": "markdown",
   "metadata": {},
   "source": [
    "少数クラスの1サンプル分類成功することによるROC AUC上昇幅は、その少数クラスの比率の逆数倍だけ多数クラスの上昇幅より大きいことがわかる。\n",
    "(ただし、予測スコアの不等号が完全に成立する場合)\n",
    "\n",
    "つまり、ROC AUCはクラス比率の逆数によって、各クラス重みづけて評価していることがわかる。"
   ]
  },
  {
   "cell_type": "code",
   "execution_count": null,
   "metadata": {},
   "outputs": [],
   "source": []
  }
 ],
 "metadata": {
  "kernelspec": {
   "display_name": "Python 3",
   "language": "python",
   "name": "python3"
  },
  "language_info": {
   "codemirror_mode": {
    "name": "ipython",
    "version": 3
   },
   "file_extension": ".py",
   "mimetype": "text/x-python",
   "name": "python",
   "nbconvert_exporter": "python",
   "pygments_lexer": "ipython3",
   "version": "3.9.1"
  }
 },
 "nbformat": 4,
 "nbformat_minor": 4
}
